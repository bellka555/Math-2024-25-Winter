{
  "cells": [
    {
      "cell_type": "markdown",
      "metadata": {
        "id": "XQ7MWYrCrvWV"
      },
      "source": [
        "# Wzory Cramera - Przykłady dla układów 2x2, 3x3 i 4x4\n",
        "\n",
        "Wzory Cramera są używane tylko wtedy gdy liczba równań jest równa liczbie niewiadomych. Inaczej mówiąc, macierz współczynników musi być macierzą kwadratową.\n",
        "\n",
        "**Wzory te są używane tylko wtedy**, gdy **wyznacznik** macierzy współczynników jest **różny od zera**. W przeciwnym razie układ równań jest sprzeczny lub nieoznaczony.\n",
        "\n",
        "## Układ równań 2x2\n",
        "\n",
        "Rozważmy układ dwóch równań z dwiema niewiadomymi:\n",
        "\n",
        "$$\n",
        "\\begin{cases}\n",
        "a_{11}x_1 + a_{12}x_2 = b_1 \\\\\n",
        "a_{21}x_1 + a_{22}x_2 = b_2\n",
        "\\end{cases}\n",
        "$$\n",
        "\n",
        "Wzory Cramera dla niewiadomych $ x_1 $ i $ x_2 $ są następujące:\n",
        "\n",
        "$$\n",
        "x_1 = \\frac{\\det(A_1)}{\\det(A)} \\quad \\text{oraz} \\quad x_2 = \\frac{\\det(A_2)}{\\det(A)}\n",
        "$$\n",
        "\n",
        "Gdzie:\n",
        "\n",
        "$$\n",
        "\\det(A) =\n",
        "\\begin{vmatrix}\n",
        "a_{11} & a_{12} \\\\\n",
        "a_{21} & a_{22}\n",
        "\\end{vmatrix}\n",
        "= a_{11}a_{22} - a_{12}a_{21}\n",
        "$$\n",
        "\n",
        "$$\n",
        "\\det(A_1) =\n",
        "\\begin{vmatrix}\n",
        "b_1 & a_{12} \\\\\n",
        "b_2 & a_{22}\n",
        "\\end{vmatrix}\n",
        "= b_1a_{22} - a_{12}b_2\n",
        "$$\n",
        "\n",
        "$$\n",
        "\\det(A_2) =\n",
        "\\begin{vmatrix}\n",
        "a_{11} & b_1 \\\\\n",
        "a_{21} & b_2\n",
        "\\end{vmatrix}\n",
        "= a_{11}b_2 - b_1a_{21}\n",
        "$$\n",
        "\n",
        "## Układ równań 3x3\n",
        "\n",
        "Rozważmy układ trzech równań z trzema niewiadomymi:\n",
        "\n",
        "$$\n",
        "\\begin{cases}\n",
        "a_{11}x_1 + a_{12}x_2 + a_{13}x_3 = b_1 \\\\\n",
        "a_{21}x_1 + a_{22}x_2 + a_{23}x_3 = b_2 \\\\\n",
        "a_{31}x_1 + a_{32}x_2 + a_{33}x_3 = b_3\n",
        "\\end{cases}\n",
        "$$\n",
        "\n",
        "Wzory Cramera dla $ x_1 $, $ x_2 $ i $ x_3 $:\n",
        "\n",
        "$$\n",
        "x_1 = \\frac{\\det(A_1)}{\\det(A)} \\quad x_2 = \\frac{\\det(A_2)}{\\det(A)} \\quad x_3 = \\frac{\\det(A_3)}{\\det(A)}\n",
        "$$\n",
        "\n",
        "Gdzie:\n",
        "\n",
        "$$\n",
        "\\det(A) =\n",
        "\\begin{vmatrix}\n",
        "a_{11} & a_{12} & a_{13} \\\\\n",
        "a_{21} & a_{22} & a_{23} \\\\\n",
        "a_{31} & a_{32} & a_{33}\n",
        "\\end{vmatrix}\n",
        "$$\n",
        "\n",
        "$$\n",
        "\\det(A_1) =\n",
        "\\begin{vmatrix}\n",
        "b_1 & a_{12} & a_{13} \\\\\n",
        "b_2 & a_{22} & a_{23} \\\\\n",
        "b_3 & a_{32} & a_{33}\n",
        "\\end{vmatrix}\n",
        "$$\n",
        "\n",
        "$$\n",
        "\\det(A_2) =\n",
        "\\begin{vmatrix}\n",
        "a_{11} & b_1 & a_{13} \\\\\n",
        "a_{21} & b_2 & a_{23} \\\\\n",
        "a_{31} & b_3 & a_{33}\n",
        "\\end{vmatrix}\n",
        "$$\n",
        "\n",
        "$$\n",
        "\\det(A_3) =\n",
        "\\begin{vmatrix}\n",
        "a_{11} & a_{12} & b_1 \\\\\n",
        "a_{21} & a_{22} & b_2 \\\\\n",
        "a_{31} & a_{32} & b_3\n",
        "\\end{vmatrix}\n",
        "$$\n",
        "\n",
        "## Układ równań 4x4\n",
        "\n",
        "Rozważmy układ czterech równań z czterema niewiadomymi:\n",
        "\n",
        "$$\n",
        "\\begin{cases}\n",
        "a_{11}x_1 + a_{12}x_2 + a_{13}x_3 + a_{14}x_4 = b_1 \\\\\n",
        "a_{21}x_1 + a_{22}x_2 + a_{23}x_3 + a_{24}x_4 = b_2 \\\\\n",
        "a_{31}x_1 + a_{32}x_2 + a_{33}x_3 + a_{34}x_4 = b_3 \\\\\n",
        "a_{41}x_1 + a_{42}x_2 + a_{43}x_3 + a_{44}x_4 = b_4\n",
        "\\end{cases}\n",
        "$$\n",
        "\n",
        "Wzory Cramera dla $ x_1 $, $ x_2 $, $ x_3 $ i $ x_4 $:\n",
        "\n",
        "$$\n",
        "x_1 = \\frac{\\det(A_1)}{\\det(A)} \\quad x_2 = \\frac{\\det(A_2)}{\\det(A)} \\quad x_3 = \\frac{\\det(A_3)}{\\det(A)} \\quad x_4 = \\frac{\\det(A_4)}{\\det(A)}\n",
        "$$\n",
        "\n",
        "Gdzie:\n",
        "\n",
        "$$\n",
        "\\det(A) =\n",
        "\\begin{vmatrix}\n",
        "a_{11} & a_{12} & a_{13} & a_{14} \\\\\n",
        "a_{21} & a_{22} & a_{23} & a_{24} \\\\\n",
        "a_{31} & a_{32} & a_{33} & a_{34} \\\\\n",
        "a_{41} & a_{42} & a_{43} & a_{44}\n",
        "\\end{vmatrix}\n",
        "$$\n",
        "\n",
        "$$\n",
        "\\det(A_1) =\n",
        "\\begin{vmatrix}\n",
        "b_1 & a_{12} & a_{13} & a_{14} \\\\\n",
        "b_2 & a_{22} & a_{23} & a_{24} \\\\\n",
        "b_3 & a_{32} & a_{33} & a_{34} \\\\\n",
        "b_4 & a_{42} & a_{43} & a_{44}\n",
        "\\end{vmatrix}\n",
        "$$\n",
        "\n",
        "$$\n",
        "\\det(A_2) =\n",
        "\\begin{vmatrix}\n",
        "a_{11} & b_1 & a_{13} & a_{14} \\\\\n",
        "a_{21} & b_2 & a_{23} & a_{24} \\\\\n",
        "a_{31} & b_3 & a_{33} & a_{34} \\\\\n",
        "a_{41} & b_4 & a_{43} & a_{44}\n",
        "\\end{vmatrix}\n",
        "$$\n",
        "\n",
        "$$\n",
        "\\det(A_3) =\n",
        "\\begin{vmatrix}\n",
        "a_{11} & a_{12} & b_1 & a_{14} \\\\\n",
        "a_{21} & a_{22} & b_2 & a_{24} \\\\\n",
        "a_{31} & a_{32} & b_3 & a_{34} \\\\\n",
        "a_{41} & a_{42} & b_4 & a_{44}\n",
        "\\end{vmatrix}\n",
        "$$\n",
        "\n",
        "$$\n",
        "\\det(A_4) =\n",
        "\\begin{vmatrix}\n",
        "a_{11} & a_{12} & a_{13} & b_1 \\\\\n",
        "a_{21} & a_{22} & a_{23} & b_2 \\\\\n",
        "a_{31} & a_{32} & a_{33} & b_3 \\\\\n",
        "a_{41} & a_{42} & a_{43} & b_4\n",
        "\\end{vmatrix}\n",
        "$$\n"
      ]
    },
    {
      "cell_type": "markdown",
      "metadata": {
        "id": "uVj9WmytrvWW"
      },
      "source": [
        "## Przykład"
      ]
    },
    {
      "cell_type": "code",
      "execution_count": 3,
      "metadata": {
        "id": "1uDv3JYwrvWW"
      },
      "outputs": [],
      "source": [
        "import sympy as sp\n",
        "\n",
        "# Definiowanie symboli\n",
        "x, y, z = sp.symbols('x y z')\n",
        "\n",
        "# Definicja układu równań\n",
        "eq1 = sp.Eq(2*x + 3*y + z, 1)\n",
        "eq2 = sp.Eq(3*x + 2*y + 2*z, 2)\n",
        "eq3 = sp.Eq(x + y + z, 3)\n",
        "\n",
        "# Macierz odpowiedniego układu równań\n",
        "A = sp.Matrix([[2, 3, 1], [3, 2, 2], [1, 1, 1]])\n",
        "# wektor wyrazów wolnych\n",
        "b = sp.Matrix([1, 2, 3])"
      ]
    },
    {
      "cell_type": "code",
      "execution_count": 4,
      "metadata": {
        "id": "_LQ-6C6VrvWX",
        "outputId": "fb562802-90c3-4189-beaf-d706ba500f2e",
        "colab": {
          "base_uri": "https://localhost:8080/",
          "height": 78
        }
      },
      "outputs": [
        {
          "output_type": "execute_result",
          "data": {
            "text/plain": [
              "Matrix([\n",
              "[2, 3, 1],\n",
              "[3, 2, 2],\n",
              "[1, 1, 1]])"
            ],
            "text/latex": "$\\displaystyle \\left[\\begin{matrix}2 & 3 & 1\\\\3 & 2 & 2\\\\1 & 1 & 1\\end{matrix}\\right]$"
          },
          "metadata": {},
          "execution_count": 4
        }
      ],
      "source": [
        "A"
      ]
    },
    {
      "cell_type": "code",
      "execution_count": 5,
      "metadata": {
        "id": "9uVayYCmrvWX",
        "outputId": "453459c1-2fc6-41e8-e075-aa55b2381211",
        "colab": {
          "base_uri": "https://localhost:8080/",
          "height": 78
        }
      },
      "outputs": [
        {
          "output_type": "execute_result",
          "data": {
            "text/plain": [
              "Matrix([\n",
              "[1],\n",
              "[2],\n",
              "[3]])"
            ],
            "text/latex": "$\\displaystyle \\left[\\begin{matrix}1\\\\2\\\\3\\end{matrix}\\right]$"
          },
          "metadata": {},
          "execution_count": 5
        }
      ],
      "source": [
        "b"
      ]
    },
    {
      "cell_type": "code",
      "execution_count": 7,
      "metadata": {
        "id": "csb5XLaYrvWY",
        "outputId": "140e72f6-0105-432a-d8b6-a73edcf7e5ea",
        "colab": {
          "base_uri": "https://localhost:8080/",
          "height": 78
        }
      },
      "outputs": [
        {
          "output_type": "execute_result",
          "data": {
            "text/plain": [
              "Matrix([\n",
              "[1, 3, 1],\n",
              "[2, 2, 2],\n",
              "[3, 1, 1]])"
            ],
            "text/latex": "$\\displaystyle \\left[\\begin{matrix}1 & 3 & 1\\\\2 & 2 & 2\\\\3 & 1 & 1\\end{matrix}\\right]$"
          },
          "metadata": {},
          "execution_count": 7
        }
      ],
      "source": [
        "# Zdefiniujmy macierz A_1\n",
        "A_1 = A.copy() # Skopiuj macierz A\n",
        "A_1[:, 0] = b # Zamień pierwszą kolumnę macierzy A na wektor b\n",
        "A_1 # sprawdzamy czy zamiana się udała"
      ]
    },
    {
      "cell_type": "code",
      "execution_count": 8,
      "metadata": {
        "id": "3n32LC9_rvWa",
        "outputId": "5eaf8758-1f11-442c-adb5-5fd965b9f092",
        "colab": {
          "base_uri": "https://localhost:8080/",
          "height": 37
        }
      },
      "outputs": [
        {
          "output_type": "execute_result",
          "data": {
            "text/plain": [
              "-4"
            ],
            "text/latex": "$\\displaystyle -4$"
          },
          "metadata": {},
          "execution_count": 8
        }
      ],
      "source": [
        "\n",
        "det_A_1 = A_1.det() # Oblicz wyznacznik macierzy A_1\n",
        "sol_x = det_A_1 / A.det() # Oblicz x_1\n",
        "sol_x # obliczona wartość x_1"
      ]
    },
    {
      "cell_type": "code",
      "execution_count": 9,
      "metadata": {
        "id": "g9AzdylErvWa",
        "outputId": "65dc0dc1-45e2-4cc0-cd50-4895d3b5edc0",
        "colab": {
          "base_uri": "https://localhost:8080/",
          "height": 78
        }
      },
      "outputs": [
        {
          "output_type": "execute_result",
          "data": {
            "text/plain": [
              "Matrix([\n",
              "[2, 1, 1],\n",
              "[3, 2, 2],\n",
              "[1, 3, 1]])"
            ],
            "text/latex": "$\\displaystyle \\left[\\begin{matrix}2 & 1 & 1\\\\3 & 2 & 2\\\\1 & 3 & 1\\end{matrix}\\right]$"
          },
          "metadata": {},
          "execution_count": 9
        }
      ],
      "source": [
        "# analogicznie dla y\n",
        "A_2 = A.copy()\n",
        "A_2[:, 1] = b\n",
        "A_2 # sprawdzamy czy zamiana się udała"
      ]
    },
    {
      "cell_type": "code",
      "execution_count": 10,
      "metadata": {
        "id": "d_OGM5l8rvWa",
        "outputId": "ead1d2de-70af-4b0d-9c2f-29c85ef863bb",
        "colab": {
          "base_uri": "https://localhost:8080/",
          "height": 37
        }
      },
      "outputs": [
        {
          "output_type": "execute_result",
          "data": {
            "text/plain": [
              "1"
            ],
            "text/latex": "$\\displaystyle 1$"
          },
          "metadata": {},
          "execution_count": 10
        }
      ],
      "source": [
        "det_A_2 = A_2.det()\n",
        "sol_y = det_A_2 / A.det()\n",
        "sol_y"
      ]
    },
    {
      "cell_type": "code",
      "execution_count": 11,
      "metadata": {
        "id": "_QN0FiYWrvWa",
        "outputId": "05d65c33-a185-4481-b8ec-2e6646c62824",
        "colab": {
          "base_uri": "https://localhost:8080/",
          "height": 37
        }
      },
      "outputs": [
        {
          "output_type": "execute_result",
          "data": {
            "text/plain": [
              "6"
            ],
            "text/latex": "$\\displaystyle 6$"
          },
          "metadata": {},
          "execution_count": 11
        }
      ],
      "source": [
        "# ostatecznie dla z\n",
        "A_3 = A.copy()\n",
        "A_3[:, 2] = b\n",
        "det_A_3 = A_3.det()\n",
        "sol_z = det_A_3 / A.det()\n",
        "sol_z"
      ]
    },
    {
      "cell_type": "code",
      "execution_count": null,
      "metadata": {
        "id": "UIC1VYOervWb",
        "outputId": "a16f130f-0fc8-4b72-ab30-5f9725b56cc4"
      },
      "outputs": [
        {
          "data": {
            "text/plain": [
              "{x: -4, y: 1, z: 6}"
            ]
          },
          "execution_count": 9,
          "metadata": {},
          "output_type": "execute_result"
        }
      ],
      "source": [
        "# Rozwiązanie układu równań\n",
        "sp.solve((eq1, eq2, eq3), (x, y, z))"
      ]
    },
    {
      "cell_type": "markdown",
      "metadata": {
        "id": "7keS5yJ3rvWb"
      },
      "source": [
        "---\n",
        "\n",
        "## Zadania dla studentów\n",
        "\n",
        "1. Rozwiąż układ równań:\n",
        "   $$\n",
        "   \\begin{cases}\n",
        "   2x_1 - 3x_2 = 7 \\\\\n",
        "   3x_1 + 5x_2 = 2\n",
        "   \\end{cases}\n",
        "   $$\n",
        "\n",
        "2. Rozwiąż układ równań:\n",
        "   $$\n",
        "   \\begin{cases}\n",
        "   2x + y - z = 1 \\\\\n",
        "   x - y + 2z = 4 \\\\\n",
        "   3x - 2z = -1\n",
        "   \\end{cases}\n",
        "   $$\n",
        "\n",
        "3. Rozwiąż układ równań:\n",
        "   $$\n",
        "   \\begin{cases}\n",
        "   x + y + z - t = 2 \\\\\n",
        "   x - z + 2t = 6 \\\\\n",
        "   2x - 3y + t = 4 \\\\\n",
        "   3x + y + 3z - 4t = -2\n",
        "   \\end{cases}\n",
        "   $$\n",
        "\n",
        "4. Dlaczego nie można rozwiązać układ równań poniżej za pomocą wzorów Cramera?\n",
        "$$\n",
        "\\begin{cases}\n",
        "x_1 + 2x_2 + 3x_3 = 3 \\\\\n",
        "4x_1 + 5x_2 + 6x_3 = 2 \\\\\n",
        "7x_1 + 8x_2 + 9x_3 = 1\n",
        "\\end{cases}\n",
        "$$"
      ]
    },
    {
      "cell_type": "markdown",
      "metadata": {
        "id": "TG4iIQ6mrvWb"
      },
      "source": []
    },
    {
      "cell_type": "code",
      "source": [
        "import sympy as sp\n",
        "x1, x2, x3 = sp.symbols('x1 x2 x3')\n",
        "\n",
        "eq1_1 = sp.Eq(2*x1 - 3*x2, 7)\n",
        "eq1_2 = sp.Eq(3*x1 + 5*x2, 2)\n",
        "A1 = sp.Matrix([[2, -3], [3, 5]])\n",
        "B1 = sp.Matrix([7, 2])\n",
        "\n",
        "det_A1 = A1.det() # обчислюєм детермінант A1\n",
        "det_x1_1 = A1.copy() # копіюємо матрицю A1\n",
        "det_x1_1[:, 0] = B1  #замінюємо першу колонку на вектор B1\n",
        "det_x2_1 = A1.copy()\n",
        "det_x2_1[:, 1] = B1  #замінюємо другу колонку на вектор B1\n",
        "x1_sol_1 = det_x1_1.det() / det_A1\n",
        "x2_sol_1 = det_x2_1.det() / det_A1\n",
        "print(\"x1:\", x1_sol_1)\n",
        "print(\"x2:\", x2_sol_1)\n"
      ],
      "metadata": {
        "id": "Ytci8MOzsRXz",
        "outputId": "82308812-135c-4194-8ad1-29f2757c9ada",
        "colab": {
          "base_uri": "https://localhost:8080/"
        }
      },
      "execution_count": 20,
      "outputs": [
        {
          "output_type": "stream",
          "name": "stdout",
          "text": [
            "Solution for x1: 41/19\n",
            "Solution for x2: -17/19\n"
          ]
        }
      ]
    },
    {
      "cell_type": "code",
      "source": [
        "import sympy as sp\n",
        "eq2_1 = sp.Eq(2*x1 + y - z, 1)\n",
        "eq2_2 = sp.Eq(x1 - y + 2*z, 4)\n",
        "eq2_3 = sp.Eq(3*x1 - 2*z, 1)\n",
        "\n",
        "A2 = sp.Matrix([[2, 1, -1], [1, -1, 2], [3, 0, -2]])\n",
        "B2 = sp.Matrix([1, 4, 1])\n",
        "\n",
        "det_A2 = A2.det()\n",
        "det_x1_2 = A2.copy()\n",
        "det_x1_2[:, 0] = B2\n",
        "det_y_2 = A2.copy()\n",
        "det_y_2[:, 1] = B2\n",
        "det_z_2 = A2.copy()\n",
        "det_z_2[:, 2] = B2\n",
        "\n",
        "x1_sol_2 = det_x1_2.det() / det_A2\n",
        "y_sol_2 = det_y_2.det() / det_A2\n",
        "z_sol_2 = det_z_2.det() / det_A2\n",
        "\n",
        "print(\"x1:\",x1_sol_2,\"y:\",y_sol_2,\"z:\",z_sol_2)"
      ],
      "metadata": {
        "id": "YofPE2_D8goc",
        "outputId": "4dc3fcff-c614-4278-ee0a-3d3b107c7844",
        "colab": {
          "base_uri": "https://localhost:8080/"
        }
      },
      "execution_count": 24,
      "outputs": [
        {
          "output_type": "stream",
          "name": "stdout",
          "text": [
            "x1: 11/9 y: -1/9 z: 4/3\n"
          ]
        }
      ]
    },
    {
      "cell_type": "code",
      "source": [
        "from sympy import symbols, Eq, solve, Matrix\n",
        "\n",
        "# 3. Third system of equations\n",
        "eq3_1 = Eq(x1 + y + z - t, 2)\n",
        "eq3_2 = Eq(x1 - z + 2*t, 6)\n",
        "eq3_3 = Eq(2*x1 - 3*y + t, 4)\n",
        "eq3_4 = Eq(3*x1 + y + 3*z - 4*t, -2)\n",
        "\n",
        "# Create the coefficient matrix and constant matrix for the system\n",
        "A3 = Matrix([[1, 1, 1, -1], [1, 0, -1, 2], [2, -3, 0, 1], [3, 1, 3, -4]])\n",
        "B3 = Matrix([2, 6, 4, -2])\n",
        "\n",
        "# Solve using Cramer's rule (determinants)\n",
        "det_A3 = A3.det()\n",
        "\n",
        "# Calculate the determinants for the variables\n",
        "if det_A3 != 0:\n",
        "    det_x1_3 = A3.copy()\n",
        "    det_x1_3[:, 0] = B3  # Replace the first column with the constant terms\n",
        "    det_y_3 = A3.copy()\n",
        "    det_y_3[:, 1] = B3  # Replace the second column with the constant terms\n",
        "    det_z_3 = A3.copy()\n",
        "    det_z_3[:, 2] = B3  # Replace the third column with the constant terms\n",
        "    det_t_3 = A3.copy()\n",
        "    det_t_3[:, 3] = B3  # Replace the fourth column with the constant terms\n",
        "\n",
        "    # Calculate solutions for x1, y, z, t using Cramer's rule\n",
        "    x1_sol_3 = det_x1_3.det() / det_A3\n",
        "    y_sol_3 = det_y_3.det() / det_A3\n",
        "    z_sol_3 = det_z_3.det() / det_A3\n",
        "    t_sol_3 = det_t_3.det() / det_A3\n",
        "else:\n",
        "    x1_sol_3, y_sol_3, z_sol_3, t_sol_3 = None, None, None, None\n",
        "\n",
        "(x1_sol_1, x2_sol_1)"
      ],
      "metadata": {
        "id": "KhIfJ-h4MhnT",
        "outputId": "fccc5294-fef0-4053-b60e-db7baab93bae",
        "colab": {
          "base_uri": "https://localhost:8080/"
        }
      },
      "execution_count": 29,
      "outputs": [
        {
          "output_type": "execute_result",
          "data": {
            "text/plain": [
              "(41/19, -17/19)"
            ]
          },
          "metadata": {},
          "execution_count": 29
        }
      ]
    },
    {
      "cell_type": "markdown",
      "source": [
        "Wyznacznik macierzy współczynników wynosi 0, co oznacza, że macierz jest singularna. W związku z tym reguła Kramera nie może być tutaj zastosowana - nie ma unikalnego rozwiązania układu, ponieważ wyznacznik wynosi zero."
      ],
      "metadata": {
        "id": "6svOSMsgNvrQ"
      }
    }
  ],
  "metadata": {
    "kernelspec": {
      "display_name": ".venv",
      "language": "python",
      "name": "python3"
    },
    "language_info": {
      "codemirror_mode": {
        "name": "ipython",
        "version": 3
      },
      "file_extension": ".py",
      "mimetype": "text/x-python",
      "name": "python",
      "nbconvert_exporter": "python",
      "pygments_lexer": "ipython3",
      "version": "3.11.9"
    },
    "colab": {
      "provenance": []
    }
  },
  "nbformat": 4,
  "nbformat_minor": 0
}