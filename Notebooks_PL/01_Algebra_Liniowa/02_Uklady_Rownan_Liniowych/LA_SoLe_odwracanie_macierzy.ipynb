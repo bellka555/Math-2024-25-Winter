{
  "cells": [
    {
      "cell_type": "markdown",
      "metadata": {
        "id": "kKdsQo9Yk8po"
      },
      "source": [
        "## Rozwiązanie układów równań liniowych metodą macierzy odwrotnej\n",
        "\n",
        "Zamiana układu równań liniowych na postać macierzową pozwala na zastosowanie macierzy odwrotnej do znalezienia rozwiązania układu równań.\n",
        "\n",
        "Jak przykład rozważmy $A \\cdot X = B$, gdzie macierz $A_{n \\times n}$ jest kwadratowa i nieosobliwa zaś $X$ i $B$ są macierzami kolumnowymi\n",
        "\n",
        "$X=\\begin{bmatrix} x_1 \\\\ x_2 \\\\ \\vdots \\\\ x_n \\end{bmatrix}, \\qquad B=\\begin{bmatrix} b_1 \\\\ b_2 \\\\ \\vdots \\\\ b_n \\end{bmatrix}$\n",
        "\n",
        "Rozwiązanie układu równań można znaleźć przez pomnożenie po lewej stronie macierzy $A^{-1}$ przez macierz $B$\n",
        "\n",
        "$(A^{-1} \\cdot A) \\cdot X = A^{-1} \\cdot B$\n",
        "\n",
        "$1 \\cdot X = A^{-1} \\cdot B$\n",
        "\n",
        "$X = A^{-1} \\cdot B$"
      ]
    },
    {
      "cell_type": "markdown",
      "metadata": {
        "id": "Nn1ES2Rqk8pp"
      },
      "source": [
        "**Przykład**\n",
        "\n",
        "Rozważmy układ równań:\n",
        "\n",
        "$$\n",
        "\\begin{cases}\n",
        "x + 2z = 3, \\\\\n",
        "2x + 3y + z = 0, \\\\\n",
        "x + 3z = 1.\n",
        "\\end{cases}\n",
        "$$\n",
        "\n",
        "Najpierw zapisujemy układ równań w formie macierzowej:\n",
        "\n",
        "\n",
        "$$\n",
        "\\begin{cases}\n",
        "1 \\cdot x + 0 \\cdot y + 2 \\cdot z = 3, \\\\\n",
        "2 \\cdot x + 3 \\cdot y + 1 \\cdot z = 0, \\\\\n",
        "1 \\cdot x + 0 \\cdot y + 3 \\cdot z = 1.\n",
        "\\end{cases}\n",
        "$$\n",
        "\n",
        "$$\n",
        "\\begin{bmatrix}\n",
        "1 & 0 & 2 \\\\\n",
        "2 & 3 & 1 \\\\\n",
        "1 & 0 & 3\n",
        "\\end{bmatrix}\n",
        "\\begin{bmatrix}\n",
        "x \\\\\n",
        "y \\\\\n",
        "z\n",
        "\\end{bmatrix}\n",
        "=\n",
        "\\begin{bmatrix}\n",
        "3 \\\\\n",
        "0 \\\\\n",
        "1\n",
        "\\end{bmatrix}\n",
        "$$\n",
        "\n",
        "Rozwiązujemy układ równań poprzez pomnożenie macierzy odwrotnej (z dobrej strony!):\n",
        "\n",
        "$$\n",
        "\\begin{bmatrix}\n",
        "x \\\\\n",
        "y \\\\\n",
        "z\n",
        "\\end{bmatrix}\n",
        "=\n",
        "\\begin{bmatrix}\n",
        "1 & 0 & 2 \\\\\n",
        "2 & 3 & 1 \\\\\n",
        "1 & 0 & 3\n",
        "\\end{bmatrix}^{-1}\n",
        "\\begin{bmatrix}\n",
        "3 \\\\\n",
        "0 \\\\\n",
        "1\n",
        "\\end{bmatrix}\n",
        "$$\n",
        "\n",
        "Obliczamy macierz odwrotną:\n",
        "\n",
        "$$\n",
        "\\begin{bmatrix}\n",
        "1 & 0 & 2 \\\\\n",
        "2 & 3 & 1 \\\\\n",
        "1 & 0 & 3\n",
        "\\end{bmatrix}^{-1}\n",
        "=\n",
        "\\begin{bmatrix}\n",
        " 4 &  0 & -2 \\\\\n",
        "-3 &  1 &  1 \\\\\n",
        "-1 &  0 &  1\n",
        "\\end{bmatrix}\n",
        "$$\n",
        "\n",
        "Mnożymy macierze\n",
        "\n",
        "$$\n",
        "\\begin{bmatrix}\n",
        "x \\\\\n",
        "y \\\\\n",
        "z\n",
        "\\end{bmatrix}\n",
        "=\n",
        "\\begin{bmatrix}\n",
        " 4 &  0 & -2 \\\\\n",
        "-3 &  1 &  1 \\\\\n",
        "-1 &  0 &  1\n",
        "\\end{bmatrix}\n",
        "\\begin{bmatrix}\n",
        "3 \\\\\n",
        "0 \\\\\n",
        "1\n",
        "\\end{bmatrix}\n",
        "=\n",
        "\\begin{bmatrix}\n",
        "7 \\\\\n",
        "-4 \\\\\n",
        "-2\n",
        "\\end{bmatrix}\n",
        "$$"
      ]
    },
    {
      "cell_type": "code",
      "execution_count": null,
      "metadata": {
        "id": "hN7eNGmFk8pq",
        "outputId": "b5a36696-a560-44e0-81e0-97632dd07760"
      },
      "outputs": [
        {
          "data": {
            "text/latex": [
              "$\\displaystyle \\left[\\begin{matrix}7\\\\-4\\\\-2\\end{matrix}\\right]$"
            ],
            "text/plain": [
              "Matrix([\n",
              "[ 7],\n",
              "[-4],\n",
              "[-2]])"
            ]
          },
          "execution_count": 9,
          "metadata": {},
          "output_type": "execute_result"
        }
      ],
      "source": [
        "# ## Rozwiązanie układów równań liniowych metodą macierzy odwrotnej\n",
        "\n",
        "import sympy as sp\n",
        "\n",
        "# Macierz współczynników\n",
        "A = sp.Matrix([\n",
        "    [1, 0, 2],\n",
        "    [0, 2, 3],\n",
        "    [1, 0, 3]\n",
        "])\n",
        "\n",
        "# Wektor wyrazów wolnych\n",
        "B =  sp.Matrix([\n",
        "    [3],\n",
        "    [0],\n",
        "    [1]\n",
        "])\n",
        "# Macierz odwrotna\n",
        "A_inv = A.inv()\n",
        "\n",
        "# Rozwiązanie układu równań\n",
        "X = A_inv * B\n",
        "X"
      ]
    },
    {
      "cell_type": "markdown",
      "metadata": {
        "id": "SgBx8P0tk8pq"
      },
      "source": [
        "---\n",
        "## Zadanie dla studentów\n",
        "\n",
        "1. Rozwiąż układ równań liniowych metodą macierzy odwrotnej:\n",
        "\n",
        "$$\n",
        "\\begin{cases}\n",
        "x + 2y + 3z = 5, \\\\\n",
        "2y + 3z = 4, \\\\\n",
        "3z = 3.\n",
        "\\end{cases}\n",
        "$$\n",
        "\n",
        "2. Rozwiąż układ równań liniowych metodą macierzy odwrotnej:\n",
        "\n",
        "$$\n",
        "\\begin{cases}\n",
        "x_1 + 2x_2 + 3x_3 = 41, \\\\\n",
        "4x_1 + 5x_2 + 6x_3 = 93, \\\\\n",
        "7x_1 + 8x_2 + 9x_3 = 145.\n",
        "\\end{cases}\n",
        "$$"
      ]
    },
    {
      "cell_type": "markdown",
      "metadata": {
        "id": "vPfmwF3Hk8pq"
      },
      "source": []
    },
    {
      "cell_type": "code",
      "source": [
        "import sympy as sp\n",
        "\n",
        "# Macierz współczynników\n",
        "A = sp.Matrix([\n",
        "    [1, 2, 3],\n",
        "    [0, 2, 3],\n",
        "    [0, 0, 3]\n",
        "])\n",
        "\n",
        "# Wektor wyrazów wolnych\n",
        "B =  sp.Matrix([\n",
        "    [5],\n",
        "    [4],\n",
        "    [3]\n",
        "])\n",
        "# Macierz odwrotna\n",
        "A_inv = A.inv()\n",
        "\n",
        "# Rozwiązanie układu równań\n",
        "X = A_inv * B\n",
        "X"
      ],
      "metadata": {
        "id": "behErTwYlvMs",
        "outputId": "194e0740-6ecf-40c6-e358-0f03d2e20d04",
        "colab": {
          "base_uri": "https://localhost:8080/",
          "height": 78
        }
      },
      "execution_count": 6,
      "outputs": [
        {
          "output_type": "execute_result",
          "data": {
            "text/plain": [
              "Matrix([\n",
              "[  1],\n",
              "[1/2],\n",
              "[  1]])"
            ],
            "text/latex": "$\\displaystyle \\left[\\begin{matrix}1\\\\\\frac{1}{2}\\\\1\\end{matrix}\\right]$"
          },
          "metadata": {},
          "execution_count": 6
        }
      ]
    },
    {
      "cell_type": "code",
      "source": [
        "import sympy as sp\n",
        "\n",
        "A2 = sp.Matrix([[1, 2, 3], [4, 5, 6], [7, 8, 9]])\n",
        "B2 = sp.Matrix([41, 93, 145])\n",
        "\n",
        "try:\n",
        "    solution2_matrix = A2.inv() * B2\n",
        "except:\n",
        "    solution2_matrix = print(\"Matrix is singular (no unique solution)\")"
      ],
      "metadata": {
        "id": "YfwW_kJim6-a",
        "outputId": "5fe8c0f2-e227-4f60-b205-8e4c493b98fb",
        "colab": {
          "base_uri": "https://localhost:8080/"
        }
      },
      "execution_count": 17,
      "outputs": [
        {
          "output_type": "stream",
          "name": "stdout",
          "text": [
            "Matrix is singular (no unique solution)\n"
          ]
        }
      ]
    }
  ],
  "metadata": {
    "kernelspec": {
      "display_name": "Python 3",
      "language": "python",
      "name": "python3"
    },
    "language_info": {
      "codemirror_mode": {
        "name": "ipython",
        "version": 3
      },
      "file_extension": ".py",
      "mimetype": "text/x-python",
      "name": "python",
      "nbconvert_exporter": "python",
      "pygments_lexer": "ipython3",
      "version": "3.11.9"
    },
    "colab": {
      "provenance": []
    }
  },
  "nbformat": 4,
  "nbformat_minor": 0
}