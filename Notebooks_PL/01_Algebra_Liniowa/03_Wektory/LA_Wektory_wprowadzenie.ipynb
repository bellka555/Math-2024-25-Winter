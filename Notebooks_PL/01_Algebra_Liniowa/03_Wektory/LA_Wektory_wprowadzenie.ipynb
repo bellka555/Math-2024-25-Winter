{
  "cells": [
    {
      "cell_type": "markdown",
      "metadata": {
        "id": "eI7GJmLLLTJM"
      },
      "source": [
        "# Wektory - Wprowadzenie\n",
        "\n",
        "**Wektory** są wielkościami, które posiadają zarówno wartość liczbową, jak i kierunek oraz zwrot w przestrzeni.\n",
        "Są one używane do opisu różnych wielkości fizycznych, takich jak prędkość, siła, czy natężenie pola elektrycznego.\n",
        "W przeciwieństwie do skalarów, które mają tylko wartość liczbową (np. masa, temperatura), wektory wymagają określenia kierunku.\n",
        "\n",
        "Wektor oznaczamy strzałką nad symbolem $\\vec{a}$ lub pogrubioną czcionką $\\mathbf{a}$.\n",
        "- Długość wektora można zapisać jako $|\\vec{a}|$ lub $a$.\n",
        "- Wektor o długości 1 nazywa się wektorem jednostkowym (wersorem) i zapisuje się jako $\\hat{\\mathbf{a}}= \\frac{\\vec{a}}{|\\vec{a}|}$.\n",
        "\n",
        "**Przykład:**\n",
        "\n",
        "Wektor $\\mathbf{a}= [3, 4]$ ma długość $a = 5$ i odpowiadający wersor (jednostkowy wektor wzdłuż kierunku wektora $\\mathbf{a}$) wyrażony jest przez $\\hat{\\mathbf{a}} = \\left[\\frac{3}{5}, \\frac{4}{5}\\right]$."
      ]
    },
    {
      "cell_type": "code",
      "execution_count": null,
      "metadata": {
        "id": "N1q6PR7jLTJO",
        "outputId": "85595d6f-1926-495f-f047-3e095e1de569"
      },
      "outputs": [
        {
          "data": {
            "text/latex": [
              "$\\displaystyle \\sqrt{a_{x}^{2} + a_{y}^{2}}$"
            ],
            "text/plain": [
              "sqrt(a_x**2 + a_y**2)"
            ]
          },
          "execution_count": 22,
          "metadata": {},
          "output_type": "execute_result"
        }
      ],
      "source": [
        "import sympy as sp  # importuj moduł sympy\n",
        "\n",
        "# Dla wektora $\\mathbf{a} = [a_x, a_y]$, długość jest podana wzorem:\n",
        "# $$ |\\mathbf{a}| = a = \\sqrt{a_x^2 + a_y^2} $$\n",
        "\n",
        "a_x, a_y = sp.symbols('a_x a_y')  # Krok 1: Zdefiniuj symboliczne zmienne a_x i a_y\n",
        "dlugosc_a = sp.sqrt(a_x**2 + a_y**2)  # Krok 2: Utwórz wzór na długość wektora a\n",
        "dlugosc_a  # Krok 3: Wyświetl wynik"
      ]
    },
    {
      "cell_type": "code",
      "execution_count": null,
      "metadata": {
        "id": "42CCaKKgLTJQ",
        "outputId": "3beac1bc-56e9-4807-ef18-4a49bab89a15"
      },
      "outputs": [
        {
          "data": {
            "text/latex": [
              "$\\displaystyle 5.0$"
            ],
            "text/plain": [
              "5.00000000000000"
            ]
          },
          "execution_count": 24,
          "metadata": {},
          "output_type": "execute_result"
        }
      ],
      "source": [
        "# Przypisz wartości dla a_x i a_y\n",
        "a_x = 3  # składowa x wektora\n",
        "a_y = 4  # składowa y wektora\n",
        "\n",
        "dlugosc_a = sp.sqrt(a_x**2 + a_y**2)  # Oblicz długość wektora dla a_x = 3 i a_y = 4\n",
        "dlugosc_a.evalf()  # Oblicz numerycznie długość wektora (oczekiwany wynik: 5)"
      ]
    },
    {
      "cell_type": "markdown",
      "metadata": {
        "id": "qeKr37qnLTJQ"
      },
      "source": [
        "## Dodawanie wektorów\n",
        "\n",
        "Dodawanie wektorów polega na dodaniu współrzędnych wektorów o takiej samej długości.\n",
        "\n",
        "Dla dwóch wektorów $\\mathbf{a}$ i $\\mathbf{b}$ w przestrzeni $\\mathbb{R}^n$, gdzie:\n",
        "\n",
        "$$\n",
        "\\mathbf{a} = [a_1, a_2, \\dots, a_n], \\quad \\mathbf{b} = [b_1, b_2, \\dots, b_n] $$\n",
        "\n",
        "Dodawanie wektorów definiuje się następująco:\n",
        "\n",
        "$$\n",
        "\\mathbf{a} + \\mathbf{b} = [a_1 + b_1, a_2 + b_2, \\dots, a_n + b_n]\n",
        "$$\n",
        "\n",
        "## Mnożenie wektora przez skalar\n",
        "\n",
        "Mnożenie wektora przez skalar polega na pomnożeniu każdej współrzędnej wektora przez tę samą liczbę.\n",
        "\n",
        "Dla wektora $\\mathbf{a}$ i skalaru $k$:\n",
        "\n",
        "$$\n",
        "k \\mathbf{a} = [k a_1, k a_2, \\dots, k a_n]\n",
        "$$"
      ]
    },
    {
      "cell_type": "markdown",
      "metadata": {
        "id": "mqU9wh9RLTJQ"
      },
      "source": [
        "## Wektory na płaszczyźnie i w przestrzeni\n",
        "\n",
        "**Wektory w 2D:**\n",
        "\n",
        "Jeśli $\\mathbf{a} = [a_x, a_y]$, to długość jest dana wzorem $|\\mathbf{a}| = a = \\sqrt{a_x^2 + a_y^2}$\n",
        "\n",
        "**Wektory w 3D:**\n",
        "\n",
        "Jeśli $\\mathbf{a} = [a_x, a_y, a_z]$, to długość wektora wynosi $|\\mathbf{a}| = a = \\sqrt{a_x^2 + a_y^2 + a_z^2}$."
      ]
    },
    {
      "cell_type": "markdown",
      "metadata": {
        "id": "w4wPpCklLTJR"
      },
      "source": [
        "## Wektor na wykresie"
      ]
    },
    {
      "cell_type": "code",
      "execution_count": null,
      "metadata": {
        "id": "dj8mNz5XLTJR",
        "outputId": "7ed7e0da-f1c2-499a-e3ba-2f775735bd9c"
      },
      "outputs": [
        {
          "data": {
            "image/png": "[encoded data removed]",
            "text/plain": [
              "<Figure size 640x480 with 1 Axes>"
            ]
          },
          "metadata": {},
          "output_type": "display_data"
        }
      ],
      "source": [
        "import matplotlib.pyplot as plt # import modułu matplotlib.pyplot\n",
        "\n",
        "plt.figure() # utworzenie nowego rysunku\n",
        "plt.quiver(0, 0, 3, 4, angles='xy', scale_units='xy', scale=1, color='r') # szybki sposób na rysowanie wektora quiver(x_początek, y_początek, x_koniec, y_koniec)\n",
        "plt.xlim(0, 5) # ustawienie zakresu osi x\n",
        "plt.ylim(0, 5) # ustawienie zakresu osi y\n",
        "plt.grid(True) # włączenie siatki\n",
        "plt.gca().set_aspect('equal') # ustawienie takiej samej skali na osiach x i y\n",
        "plt.show()"
      ]
    },
    {
      "cell_type": "markdown",
      "metadata": {
        "id": "dqVQcrlLLTJR"
      },
      "source": [
        "## Przykład prostej implementacji wektorów w Pythonie\n",
        "\n",
        "Dane są wektory $\\mathbf{a}=[1, 2]$ i $\\mathbf{b}=[3, 4]$ i chcemy policzyć ich sumę $\\mathbf{c}=\\mathbf{a}+\\mathbf{b}= [1+3, 2+4] = [4, 6]$"
      ]
    },
    {
      "cell_type": "code",
      "execution_count": null,
      "metadata": {
        "id": "gm5yGsxwLTJR"
      },
      "outputs": [],
      "source": [
        "import sympy as sp # importuj moduł sympy\n",
        "\n",
        "a=[1, 2] # wektor a\n",
        "b=[3, 4] # wektor b\n",
        "c = [a[0] + b[0], a[1] + b[1]] # suma wektorów a i b\n",
        "c # wyświetlenie wyniku\n"
      ]
    },
    {
      "cell_type": "markdown",
      "metadata": {
        "id": "jCFinFHwLTJS"
      },
      "source": [
        "## Przykład lepszej implementacji wektorów w Pythonie\n",
        "\n",
        "Wektory zapisz jako macierze kolumnowe. Wtedy dodawanie wektorów jest takie samo jak dodawanie macierzy."
      ]
    },
    {
      "cell_type": "code",
      "execution_count": null,
      "metadata": {
        "id": "UkbPppKSLTJS"
      },
      "outputs": [],
      "source": [
        "import sympy as sp\n",
        "\n",
        "# Definicje wektorów\n",
        "a = sp.Matrix([1, 2, 3])\n",
        "b = sp.Matrix([4, 5, 6])\n",
        "c= sp.Matrix([7, 0, 9])\n",
        "d= sp.Matrix([0, 2, 0])\n",
        "\n",
        "a+b+c-d # OPewna operacja dodawania i odejmowania wektorów"
      ]
    },
    {
      "cell_type": "markdown",
      "metadata": {
        "id": "BzajDRp8LTJS"
      },
      "source": [
        "## Dodawanie wektorów na wykresie\n",
        "\n",
        "Przykład: $\\mathbf{a}=[2,1]$ i $\\mathbf{b}=[1,2]$ prowadzi do wektora $\\mathbf{c}=\\mathbf{a}+\\mathbf{b}=[3,3]$."
      ]
    },
    {
      "cell_type": "code",
      "execution_count": null,
      "metadata": {
        "id": "ZVwA93olLTJT"
      },
      "outputs": [],
      "source": [
        "import matplotlib.pyplot as plt # import modułu matplotlib.pyplot #przykład dodawania wektorów w przestrzeni dwuwymiarowej\n",
        "\n",
        "plt.figure() # utworzenie nowego rysunku\n",
        "plt.quiver(0, 0, 2, 1, angles='xy', scale_units='xy', scale=1, color='r') # szybki sposób na rysowanie wektorów quiver(x_początek, y_początek, x_koniec, y_koniec)\n",
        "plt.quiver(0, 0, 1, 2, angles='xy', scale_units='xy', scale=1, color='b') # szybki sposób na rysowanie wektorów quiver(x_początek, y_początek, x_koniec, y_koniec)\n",
        "plt.quiver(0, 0, 3, 3, angles='xy', scale_units='xy', scale=1, color='g') # szybki sposób na rysowanie wektorów quiver(x_początek, y_początek, x_koniec, y_koniec)\n",
        "plt.xlim(-1, 4) # ustawienie zakresu osi x\n",
        "plt.ylim(-1, 4) # ustawienie zakresu osi y\n",
        "plt.grid(True) # włączenie siatki\n",
        "plt.gca().set_aspect('equal') # ustawienie takiej samej skali na osiach x i y\n",
        "plt.show()"
      ]
    },
    {
      "cell_type": "markdown",
      "metadata": {
        "id": "7r1GiMtcLTJT"
      },
      "source": [
        "## Układy współrzędnych na płaszczyźnie i w przestrzeni\n",
        "\n",
        "**Układ współrzędnych kartezjańskich** jest podstawowym układem współrzędnych, w którym punkty w przestrzeni są określane przez ich odległości od ustalonych osi: $x$, $y$ (dla 2D) i $z$ (dla 3D).\n",
        "\n",
        "- W 2D, każdy punkt można zapisać jako $(x, y)$.\n",
        "- W 3D, punkty mają postać $(x, y, z)$.\n",
        "\n",
        "**Układ biegunowy** jest używany w 2D i definiuje punkt poprzez odległość od punktu początkowego (r) oraz kąt (θ) względem osi odniesienia.\n",
        "\n",
        "**Układ sferyczny** jest używany w 3D i definiuje punkt poprzez odległość od punktu początkowego (r), kąt azymutu (θ) i kąt elewacji (φ).\n",
        "\n",
        "Wektory można reprezentować za pomocą składowych w układzie kartezjańskim, gdzie każda składowa odpowiada odległości punktu od odpowiedniej osi współrzędnych.\n",
        "\n",
        "- Dla wektora w przestrzeni dwuwymiarowej: $\\mathbf{a} = [a_x, a_y]= a_x\\hat{\\mathbf{i}} + a_y\\hat{\\mathbf{j}}$\n",
        "- Dla wektora w przestrzeni trójwymiarowej:$\\mathbf{a} = [a_x, a_y, a_z] = a_x\\hat{\\mathbf{i}} + a_y\\hat{\\mathbf{j}} + a_z\\hat{\\mathbf{k}}$\n",
        "\n",
        "## Baza\n",
        "\n",
        "**Baza** wektorów to zbiór wektorów, które rozpięcie tworzy przestrzeń wektorową. W przestrzeni kartezjańskiej standardową bazą są wektory $\\hat{\\mathbf{i}}, \\hat{\\mathbf{j}}, \\hat{\\mathbf{k}}$.\n",
        "\n",
        "Dla 2D:\n",
        "\n",
        "$$\n",
        "\\hat{\\mathbf{i}} = [1, 0], \\quad \\hat{\\mathbf{j}} = [0, 1]\n",
        "$$\n",
        "\n",
        "Dla 3D:\n",
        "\n",
        "$$\n",
        "\\hat{\\mathbf{i}} = [1, 0, 0], \\quad \\hat{\\mathbf{j}} = [0, 1, 0], \\quad \\hat{\\mathbf{k}} = [0, 0, 1]\n",
        "$$\n",
        "\n",
        "Tak zdefiniowane wektory bazowe są jednostkowe i prostopadłe do siebie.\n",
        "\n",
        "### Znajdowanie współrzędnych wektora w nowej bazie\n",
        "\n",
        "Aby znaleźć współrzędne wektora $\\mathbf{v}$ w nowej bazie $\\{\\mathbf{b_1}, \\mathbf{b_2}, \\mathbf{b_3}\\}$, należy wyrazić $\\mathbf{v}$ jako kombinację liniową wektorów bazy.\n",
        "\n",
        "$$\n",
        "\\mathbf{v} = c_1 \\mathbf{b_1} + c_2 \\mathbf{b_2} + c_3 \\mathbf{b_3}\n",
        "$$\n",
        "\n",
        "Współczynniki $c_1, c_2, c_3$ są współrzędnymi wektora $\\mathbf{v}$ w nowej bazie."
      ]
    },
    {
      "cell_type": "markdown",
      "metadata": {
        "id": "_cnB96ajLTJT"
      },
      "source": [
        "---\n",
        "\n",
        "## Zadania dla studentów\n",
        "\n",
        "A. Przez jaką liczbę należy pomnożyć wektor $\\mathbf{a} = [3, 4]$, aby jego długość była równa 1?\n",
        "\n",
        "B. Policz długość wektora $\\mathbf{b} = [1, 1]$ i znajdź wersor tego wektora.\n",
        "\n",
        "C. Zaprezentuj wektor i wersor z poprzedniego zadania na wykresie.\n",
        "\n",
        "D. Policz długość wektora $\\mathbf{c} = [1, 2, 3]$ i znajdź wersor tego wektora.\n",
        "\n",
        "E. Znajdź współrzędne kartezjańskiego wektora $\\mathbf{v} = [2, 3, 4]$ w bazie $\\{\\mathbf{b_1} = [1, 0, 1], \\mathbf{b_2} = [0, 1, 0], \\mathbf{b_3} = [1, 0, -1]\\}$."
      ]
    },
    {
      "cell_type": "markdown",
      "metadata": {
        "id": "ORQpxwZwLTJT"
      },
      "source": []
    },
    {
      "cell_type": "code",
      "source": [
        "import numpy as np\n",
        "import matplotlib.pyplot as plt\n",
        "\n",
        "import sympy as sp\n",
        "a_x= 3\n",
        "a_y= 4\n",
        "\n",
        "dlugosc_a= sp.sqrt(a_x**2 + ау**2)\n",
        "\n",
        "wynik= 1/5\n",
        "wynik\n"
      ],
      "metadata": {
        "id": "usvCQEDaoToP",
        "outputId": "e120b96a-aabe-47de-a2f7-3b1ab7a26560",
        "colab": {
          "base_uri": "https://localhost:8080/"
        }
      },
      "execution_count": 3,
      "outputs": [
        {
          "output_type": "execute_result",
          "data": {
            "text/plain": [
              "5.0"
            ]
          },
          "metadata": {},
          "execution_count": 3
        }
      ]
    },
    {
      "cell_type": "code",
      "source": [
        "b = np.array([1, 1])  # Визначаємо вектор b / Definiujemy wektor b\n",
        "b_length = np.linalg.norm(b)  # Обчислюємо довжину вектора b / Obliczamy długość wektora b\n",
        "b_normalized = b / b_length  # Нормалізуємо вектор b / Normalizujemy wektor b\n",
        "b_length"
      ],
      "metadata": {
        "id": "6ASV3WTDoftE",
        "outputId": "98ca8fff-eba0-4fc8-c174-347233cd5f23",
        "colab": {
          "base_uri": "https://localhost:8080/"
        }
      },
      "execution_count": 8,
      "outputs": [
        {
          "output_type": "execute_result",
          "data": {
            "text/plain": [
              "array([0.70710678, 0.70710678])"
            ]
          },
          "metadata": {},
          "execution_count": 8
        }
      ]
    },
    {
      "cell_type": "code",
      "source": [
        "plt.figure(figsize=(6, 6))\n",
        "plt.quiver(0, 0, b[0], b[1], angles='xy', scale_units='xy', scale=1, color='blue', label=\"Вектор b / Wektor b\")\n",
        "plt.quiver(0, 0, b_normalized[0], b_normalized[1], angles='xy', scale_units='xy', scale=1, color='red', label=\"Вектор b (норм.) / Wektor b (norm.)\")\n",
        "plt.xlim(-1, 2)\n",
        "plt.ylim(-1, 2)\n",
        "plt.axhline(0, color='grey', lw=0.5)  # Горизонтальна вісь / Oś pozioma\n",
        "plt.axvline(0, color='grey', lw=0.5)  # Вертикальна вісь / Oś pionowa\n",
        "plt.legend()\n",
        "plt.title(\"Вектор b і його нормалізований вектор / Wektor b i jego znormalizowany wektor\")\n",
        "plt.grid()\n",
        "plt.show()"
      ],
      "metadata": {
        "id": "-szx8oC0ov9V",
        "outputId": "57d1c1a5-329d-4b42-c260-6ade94ed96fc",
        "colab": {
          "base_uri": "https://localhost:8080/",
          "height": 545
        }
      },
      "execution_count": 12,
      "outputs": [
        {
          "output_type": "display_data",
          "data": {
            "text/plain": [
              "<Figure size 600x600 with 1 Axes>"
            ],
            "image/png": "[encoded data removed]"
          },
          "metadata": {}
        }
      ]
    },
    {
      "cell_type": "code",
      "source": [
        "c = np.array([1, 2, 3])  # Визначаємо вектор c / Definiujemy wektor c\n",
        "c_length = np.linalg.norm(c)  # Обчислюємо довжину вектора c / Obliczamy długość wektora c\n",
        "c_normalized = c / c_length  # Нормалізуємо вектор c / Normalizujemy wektor c\n",
        "c_length,c_normalized"
      ],
      "metadata": {
        "id": "d3EN0MdQqky8",
        "outputId": "b5179131-2e54-4e8f-ebd9-449a1c87a385",
        "colab": {
          "base_uri": "https://localhost:8080/"
        }
      },
      "execution_count": 10,
      "outputs": [
        {
          "output_type": "execute_result",
          "data": {
            "text/plain": [
              "(3.7416573867739413, array([0.26726124, 0.53452248, 0.80178373]))"
            ]
          },
          "metadata": {},
          "execution_count": 10
        }
      ]
    },
    {
      "cell_type": "code",
      "source": [
        "v = np.array([2, 3, 4])  # Визначаємо вектор v / Definiujemy wektor v\n",
        "b1 = np.array([1, 0, 1])  # Вектор базису b1 / Wektor bazy b1\n",
        "b2 = np.array([0, 1, 0])  # Вектор базису b2 / Wektor bazy b2\n",
        "b3 = np.array([1, 0, -1]) # Вектор базису b3 / Wektor bazy b3\n",
        "B = np.column_stack([b1, b2, b3])  # Створюємо матрицю базису B / Tworzymy macierz bazy B\n",
        "v_coords = np.linalg.solve(B, v)  # Розв'язуємо систему для знаходження координат / Rozwiązujemy układ aby znaleźć współrzędne\n",
        "v_coords"
      ],
      "metadata": {
        "id": "Bn9lhJSsq1VZ",
        "outputId": "39fbfadc-2447-4e51-f0e7-26c03800a9f9",
        "colab": {
          "base_uri": "https://localhost:8080/"
        }
      },
      "execution_count": 11,
      "outputs": [
        {
          "output_type": "execute_result",
          "data": {
            "text/plain": [
              "array([ 3.,  3., -1.])"
            ]
          },
          "metadata": {},
          "execution_count": 11
        }
      ]
    }
  ],
  "metadata": {
    "kernelspec": {
      "display_name": "Python 3",
      "language": "python",
      "name": "python3"
    },
    "language_info": {
      "codemirror_mode": {
        "name": "ipython",
        "version": 3
      },
      "file_extension": ".py",
      "mimetype": "text/x-python",
      "name": "python",
      "nbconvert_exporter": "python",
      "pygments_lexer": "ipython3",
      "version": "3.11.9"
    },
    "colab": {
      "provenance": []
    }
  },
  "nbformat": 4,
  "nbformat_minor": 0
}