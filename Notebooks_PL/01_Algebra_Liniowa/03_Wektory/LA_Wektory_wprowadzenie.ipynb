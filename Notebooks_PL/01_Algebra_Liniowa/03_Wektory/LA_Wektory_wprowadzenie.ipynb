{
  "cells": [
    {
      "cell_type": "markdown",
      "metadata": {
        "id": "eI7GJmLLLTJM"
      },
      "source": [
        "# Wektory - Wprowadzenie\n",
        "\n",
        "**Wektory** są wielkościami, które posiadają zarówno wartość liczbową, jak i kierunek oraz zwrot w przestrzeni.\n",
        "Są one używane do opisu różnych wielkości fizycznych, takich jak prędkość, siła, czy natężenie pola elektrycznego.\n",
        "W przeciwieństwie do skalarów, które mają tylko wartość liczbową (np. masa, temperatura), wektory wymagają określenia kierunku.\n",
        "\n",
        "Wektor oznaczamy strzałką nad symbolem $\\vec{a}$ lub pogrubioną czcionką $\\mathbf{a}$.\n",
        "- Długość wektora można zapisać jako $|\\vec{a}|$ lub $a$.\n",
        "- Wektor o długości 1 nazywa się wektorem jednostkowym (wersorem) i zapisuje się jako $\\hat{\\mathbf{a}}= \\frac{\\vec{a}}{|\\vec{a}|}$.\n",
        "\n",
        "**Przykład:**\n",
        "\n",
        "Wektor $\\mathbf{a}= [3, 4]$ ma długość $a = 5$ i odpowiadający wersor (jednostkowy wektor wzdłuż kierunku wektora $\\mathbf{a}$) wyrażony jest przez $\\hat{\\mathbf{a}} = \\left[\\frac{3}{5}, \\frac{4}{5}\\right]$."
      ]
    },
    {
      "cell_type": "code",
      "execution_count": null,
      "metadata": {
        "id": "N1q6PR7jLTJO",
        "outputId": "85595d6f-1926-495f-f047-3e095e1de569"
      },
      "outputs": [
        {
          "data": {
            "text/latex": [
              "$\\displaystyle \\sqrt{a_{x}^{2} + a_{y}^{2}}$"
            ],
            "text/plain": [
              "sqrt(a_x**2 + a_y**2)"
            ]
          },
          "execution_count": 22,
          "metadata": {},
          "output_type": "execute_result"
        }
      ],
      "source": [
        "import sympy as sp  # importuj moduł sympy\n",
        "\n",
        "# Dla wektora $\\mathbf{a} = [a_x, a_y]$, długość jest podana wzorem:\n",
        "# $$ |\\mathbf{a}| = a = \\sqrt{a_x^2 + a_y^2} $$\n",
        "\n",
        "a_x, a_y = sp.symbols('a_x a_y')  # Krok 1: Zdefiniuj symboliczne zmienne a_x i a_y\n",
        "dlugosc_a = sp.sqrt(a_x**2 + a_y**2)  # Krok 2: Utwórz wzór na długość wektora a\n",
        "dlugosc_a  # Krok 3: Wyświetl wynik"
      ]
    },
    {
      "cell_type": "code",
      "execution_count": null,
      "metadata": {
        "id": "42CCaKKgLTJQ",
        "outputId": "3beac1bc-56e9-4807-ef18-4a49bab89a15"
      },
      "outputs": [
        {
          "data": {
            "text/latex": [
              "$\\displaystyle 5.0$"
            ],
            "text/plain": [
              "5.00000000000000"
            ]
          },
          "execution_count": 24,
          "metadata": {},
          "output_type": "execute_result"
        }
      ],
      "source": [
        "# Przypisz wartości dla a_x i a_y\n",
        "a_x = 3  # składowa x wektora\n",
        "a_y = 4  # składowa y wektora\n",
        "\n",
        "dlugosc_a = sp.sqrt(a_x**2 + a_y**2)  # Oblicz długość wektora dla a_x = 3 i a_y = 4\n",
        "dlugosc_a.evalf()  # Oblicz numerycznie długość wektora (oczekiwany wynik: 5)"
      ]
    },
    {
      "cell_type": "markdown",
      "metadata": {
        "id": "qeKr37qnLTJQ"
      },
      "source": [
        "## Dodawanie wektorów\n",
        "\n",
        "Dodawanie wektorów polega na dodaniu współrzędnych wektorów o takiej samej długości.\n",
        "\n",
        "Dla dwóch wektorów $\\mathbf{a}$ i $\\mathbf{b}$ w przestrzeni $\\mathbb{R}^n$, gdzie:\n",
        "\n",
        "$$\n",
        "\\mathbf{a} = [a_1, a_2, \\dots, a_n], \\quad \\mathbf{b} = [b_1, b_2, \\dots, b_n] $$\n",
        "\n",
        "Dodawanie wektorów definiuje się następująco:\n",
        "\n",
        "$$\n",
        "\\mathbf{a} + \\mathbf{b} = [a_1 + b_1, a_2 + b_2, \\dots, a_n + b_n]\n",
        "$$\n",
        "\n",
        "## Mnożenie wektora przez skalar\n",
        "\n",
        "Mnożenie wektora przez skalar polega na pomnożeniu każdej współrzędnej wektora przez tę samą liczbę.\n",
        "\n",
        "Dla wektora $\\mathbf{a}$ i skalaru $k$:\n",
        "\n",
        "$$\n",
        "k \\mathbf{a} = [k a_1, k a_2, \\dots, k a_n]\n",
        "$$"
      ]
    },
    {
      "cell_type": "markdown",
      "metadata": {
        "id": "mqU9wh9RLTJQ"
      },
      "source": [
        "## Wektory na płaszczyźnie i w przestrzeni\n",
        "\n",
        "**Wektory w 2D:**\n",
        "\n",
        "Jeśli $\\mathbf{a} = [a_x, a_y]$, to długość jest dana wzorem $|\\mathbf{a}| = a = \\sqrt{a_x^2 + a_y^2}$\n",
        "\n",
        "**Wektory w 3D:**\n",
        "\n",
        "Jeśli $\\mathbf{a} = [a_x, a_y, a_z]$, to długość wektora wynosi $|\\mathbf{a}| = a = \\sqrt{a_x^2 + a_y^2 + a_z^2}$."
      ]
    },
    {
      "cell_type": "markdown",
      "metadata": {
        "id": "w4wPpCklLTJR"
      },
      "source": [
        "## Wektor na wykresie"
      ]
    },
    {
      "cell_type": "code",
      "execution_count": null,
      "metadata": {
        "id": "dj8mNz5XLTJR",
        "outputId": "7ed7e0da-f1c2-499a-e3ba-2f775735bd9c"
      },
      "outputs": [
        {
          "data": {
            "image/png": "[encoded data removed]",
            "text/plain": [
              "<Figure size 640x480 with 1 Axes>"
            ]
          },
          "metadata": {},
          "output_type": "display_data"
        }
      ],
      "source": [
        "import matplotlib.pyplot as plt # import modułu matplotlib.pyplot\n",
        "\n",
        "plt.figure() # utworzenie nowego rysunku\n",
        "plt.quiver(0, 0, 3, 4, angles='xy', scale_units='xy', scale=1, color='r') # szybki sposób na rysowanie wektora quiver(x_początek, y_początek, x_koniec, y_koniec)\n",
        "plt.xlim(0, 5) # ustawienie zakresu osi x\n",
        "plt.ylim(0, 5) # ustawienie zakresu osi y\n",
        "plt.grid(True) # włączenie siatki\n",
        "plt.gca().set_aspect('equal') # ustawienie takiej samej skali na osiach x i y\n",
        "plt.show()"
      ]
    },
    {
      "cell_type": "markdown",
      "metadata": {
        "id": "dqVQcrlLLTJR"
      },
      "source": [
        "## Przykład prostej implementacji wektorów w Pythonie\n",
        "\n",
        "Dane są wektory $\\mathbf{a}=[1, 2]$ i $\\mathbf{b}=[3, 4]$ i chcemy policzyć ich sumę $\\mathbf{c}=\\mathbf{a}+\\mathbf{b}= [1+3, 2+4] = [4, 6]$"
      ]
    },
    {
      "cell_type": "code",
      "execution_count": null,
      "metadata": {
        "id": "gm5yGsxwLTJR"
      },
      "outputs": [],
      "source": [
        "import sympy as sp # importuj moduł sympy\n",
        "\n",
        "a=[1, 2] # wektor a\n",
        "b=[3, 4] # wektor b\n",
        "c = [a[0] + b[0], a[1] + b[1]] # suma wektorów a i b\n",
        "c # wyświetlenie wyniku\n"
      ]
    },
    {
      "cell_type": "markdown",
      "metadata": {
        "id": "jCFinFHwLTJS"
      },
      "source": [
        "## Przykład lepszej implementacji wektorów w Pythonie\n",
        "\n",
        "Wektory zapisz jako macierze kolumnowe. Wtedy dodawanie wektorów jest takie samo jak dodawanie macierzy."
      ]
    },
    {
      "cell_type": "code",
      "execution_count": null,
      "metadata": {
        "id": "UkbPppKSLTJS"
      },
      "outputs": [],
      "source": [
        "import sympy as sp\n",
        "\n",
        "# Definicje wektorów\n",
        "a = sp.Matrix([1, 2, 3])\n",
        "b = sp.Matrix([4, 5, 6])\n",
        "c= sp.Matrix([7, 0, 9])\n",
        "d= sp.Matrix([0, 2, 0])\n",
        "\n",
        "a+b+c-d # OPewna operacja dodawania i odejmowania wektorów"
      ]
    },
    {
      "cell_type": "markdown",
      "metadata": {
        "id": "BzajDRp8LTJS"
      },
      "source": [
        "## Dodawanie wektorów na wykresie\n",
        "\n",
        "Przykład: $\\mathbf{a}=[2,1]$ i $\\mathbf{b}=[1,2]$ prowadzi do wektora $\\mathbf{c}=\\mathbf{a}+\\mathbf{b}=[3,3]$."
      ]
    },
    {
      "cell_type": "code",
      "execution_count": null,
      "metadata": {
        "id": "ZVwA93olLTJT"
      },
      "outputs": [],
      "source": [
        "import matplotlib.pyplot as plt # import modułu matplotlib.pyplot #przykład dodawania wektorów w przestrzeni dwuwymiarowej\n",
        "\n",
        "plt.figure() # utworzenie nowego rysunku\n",
        "plt.quiver(0, 0, 2, 1, angles='xy', scale_units='xy', scale=1, color='r') # szybki sposób na rysowanie wektorów quiver(x_początek, y_początek, x_koniec, y_koniec)\n",
        "plt.quiver(0, 0, 1, 2, angles='xy', scale_units='xy', scale=1, color='b') # szybki sposób na rysowanie wektorów quiver(x_początek, y_początek, x_koniec, y_koniec)\n",
        "plt.quiver(0, 0, 3, 3, angles='xy', scale_units='xy', scale=1, color='g') # szybki sposób na rysowanie wektorów quiver(x_początek, y_początek, x_koniec, y_koniec)\n",
        "plt.xlim(-1, 4) # ustawienie zakresu osi x\n",
        "plt.ylim(-1, 4) # ustawienie zakresu osi y\n",
        "plt.grid(True) # włączenie siatki\n",
        "plt.gca().set_aspect('equal') # ustawienie takiej samej skali na osiach x i y\n",
        "plt.show()"
      ]
    },
    {
      "cell_type": "markdown",
      "metadata": {
        "id": "7r1GiMtcLTJT"
      },
      "source": [
        "## Układy współrzędnych na płaszczyźnie i w przestrzeni\n",
        "\n",
        "**Układ współrzędnych kartezjańskich** jest podstawowym układem współrzędnych, w którym punkty w przestrzeni są określane przez ich odległości od ustalonych osi: $x$, $y$ (dla 2D) i $z$ (dla 3D).\n",
        "\n",
        "- W 2D, każdy punkt można zapisać jako $(x, y)$.\n",
        "- W 3D, punkty mają postać $(x, y, z)$.\n",
        "\n",
        "**Układ biegunowy** jest używany w 2D i definiuje punkt poprzez odległość od punktu początkowego (r) oraz kąt (θ) względem osi odniesienia.\n",
        "\n",
        "**Układ sferyczny** jest używany w 3D i definiuje punkt poprzez odległość od punktu początkowego (r), kąt azymutu (θ) i kąt elewacji (φ).\n",
        "\n",
        "Wektory można reprezentować za pomocą składowych w układzie kartezjańskim, gdzie każda składowa odpowiada odległości punktu od odpowiedniej osi współrzędnych.\n",
        "\n",
        "- Dla wektora w przestrzeni dwuwymiarowej: $\\mathbf{a} = [a_x, a_y]= a_x\\hat{\\mathbf{i}} + a_y\\hat{\\mathbf{j}}$\n",
        "- Dla wektora w przestrzeni trójwymiarowej:$\\mathbf{a} = [a_x, a_y, a_z] = a_x\\hat{\\mathbf{i}} + a_y\\hat{\\mathbf{j}} + a_z\\hat{\\mathbf{k}}$\n",
        "\n",
        "## Baza\n",
        "\n",
        "**Baza** wektorów to zbiór wektorów, które rozpięcie tworzy przestrzeń wektorową. W przestrzeni kartezjańskiej standardową bazą są wektory $\\hat{\\mathbf{i}}, \\hat{\\mathbf{j}}, \\hat{\\mathbf{k}}$.\n",
        "\n",
        "Dla 2D:\n",
        "\n",
        "$$\n",
        "\\hat{\\mathbf{i}} = [1, 0], \\quad \\hat{\\mathbf{j}} = [0, 1]\n",
        "$$\n",
        "\n",
        "Dla 3D:\n",
        "\n",
        "$$\n",
        "\\hat{\\mathbf{i}} = [1, 0, 0], \\quad \\hat{\\mathbf{j}} = [0, 1, 0], \\quad \\hat{\\mathbf{k}} = [0, 0, 1]\n",
        "$$\n",
        "\n",
        "Tak zdefiniowane wektory bazowe są jednostkowe i prostopadłe do siebie.\n",
        "\n",
        "### Znajdowanie współrzędnych wektora w nowej bazie\n",
        "\n",
        "Aby znaleźć współrzędne wektora $\\mathbf{v}$ w nowej bazie $\\{\\mathbf{b_1}, \\mathbf{b_2}, \\mathbf{b_3}\\}$, należy wyrazić $\\mathbf{v}$ jako kombinację liniową wektorów bazy.\n",
        "\n",
        "$$\n",
        "\\mathbf{v} = c_1 \\mathbf{b_1} + c_2 \\mathbf{b_2} + c_3 \\mathbf{b_3}\n",
        "$$\n",
        "\n",
        "Współczynniki $c_1, c_2, c_3$ są współrzędnymi wektora $\\mathbf{v}$ w nowej bazie."
      ]
    },
    {
      "cell_type": "markdown",
      "metadata": {
        "id": "_cnB96ajLTJT"
      },
      "source": [
        "---\n",
        "\n",
        "## Zadania dla studentów\n",
        "\n",
        "A. Przez jaką liczbę należy pomnożyć wektor $\\mathbf{a} = [3, 4]$, aby jego długość była równa 1?\n",
        "\n",
        "B. Policz długość wektora $\\mathbf{b} = [1, 1]$ i znajdź wersor tego wektora.\n",
        "\n",
        "C. Zaprezentuj wektor i wersor z poprzedniego zadania na wykresie.\n",
        "\n",
        "D. Policz długość wektora $\\mathbf{c} = [1, 2, 3]$ i znajdź wersor tego wektora.\n",
        "\n",
        "E. Znajdź współrzędne kartezjańskiego wektora $\\mathbf{v} = [2, 3, 4]$ w bazie $\\{\\mathbf{b_1} = [1, 0, 1], \\mathbf{b_2} = [0, 1, 0], \\mathbf{b_3} = [1, 0, -1]\\}$."
      ]
    },
    {
      "cell_type": "markdown",
      "metadata": {
        "id": "ORQpxwZwLTJT"
      },
      "source": []
    },
    {
      "cell_type": "code",
      "source": [
        "from sympy import Matrix, symbols, solve, sqrt\n",
        "import matplotlib.pyplot as plt\n",
        "\n",
        "# Task A: Normalize vector a\n",
        "a = Matrix([3, 4])\n",
        "a_magnitude = a.norm()\n",
        "a_unit = a / a_magnitude\n",
        "print(\"Task A: Factor to make vector a unit length:\", 1 / a_magnitude)\n",
        "print(\"Task A: Normalized vector a (unit vector):\", a_unit)\n",
        "\n",
        "# Task B: Magnitude and unit vector of b\n",
        "b = Matrix([1, 1])\n",
        "b_magnitude = b.norm()\n",
        "b_unit = b / b_magnitude\n",
        "print(\"Task B: Magnitude of vector b:\", b_magnitude)\n",
        "print(\"Task B: Unit vector of b:\", b_unit)\n",
        "\n",
        "# Task C: Plot vector b and its unit vector (convert to floats for plotting)\n",
        "plt.figure()\n",
        "plt.quiver(0, 0, float(b[0]), float(b[1]), angles='xy', scale_units='xy', scale=1, color='blue', label='Vector b [1,1]')\n",
        "plt.quiver(0, 0, float(b_unit[0].evalf()), float(b_unit[1].evalf()), angles='xy', scale_units='xy', scale=1, color='green', label='Unit vector of b')\n",
        "plt.xlim(-2, 2)\n",
        "plt.ylim(-2, 2)\n",
        "plt.xlabel('X-axis')\n",
        "plt.ylabel('Y-axis')\n",
        "plt.legend()\n",
        "plt.grid()\n",
        "plt.title(\"Task C: Vector b and its Unit Vector\")\n",
        "\n",
        "# Task D: Magnitude and unit vector of c\n",
        "c = Matrix([1, 2, 3])\n",
        "c_magnitude = c.norm()\n",
        "c_unit = c / c_magnitude\n",
        "print(\"Task D: Magnitude of vector c:\", c_magnitude)\n",
        "print(\"Task D: Unit vector of c:\", c_unit)\n",
        "\n",
        "# Task E: Cartesian coordinates of v in the new basis\n",
        "v = Matrix([2, 3, 4])\n",
        "b1 = Matrix([1, 0, 1])\n",
        "b2 = Matrix([0, 1, 0])\n",
        "b3 = Matrix([1, 0, -1])\n",
        "\n",
        "# Set up scalar equations to solve for x, y, and z\n",
        "x, y, z = symbols('x y z')\n",
        "equations = [\n",
        "    x * b1[0] + y * b2[0] + z * b3[0] - v[0],\n",
        "    x * b1[1] + y * b2[1] + z * b3[1] - v[1],\n",
        "    x * b1[2] + y * b2[2] + z * b3[2] - v[2]\n",
        "]\n",
        "\n",
        "# Solve the system of equations\n",
        "solution = solve(equations, (x, y, z))\n",
        "print(\"Task E: Coordinates of v in the new basis (b1, b2, b3):\", solution)\n",
        "\n",
        "plt.show()"
      ],
      "metadata": {
        "id": "GttmlhiXMOlz",
        "outputId": "2f606561-04e0-415f-a82a-d9f49838bc60",
        "colab": {
          "base_uri": "https://localhost:8080/",
          "height": 594
        }
      },
      "execution_count": 8,
      "outputs": [
        {
          "output_type": "stream",
          "name": "stdout",
          "text": [
            "Task A: Factor to make vector a unit length: 1/5\n",
            "Task A: Normalized vector a (unit vector): Matrix([[3/5], [4/5]])\n",
            "Task B: Magnitude of vector b: sqrt(2)\n",
            "Task B: Unit vector of b: Matrix([[sqrt(2)/2], [sqrt(2)/2]])\n",
            "Task D: Magnitude of vector c: sqrt(14)\n",
            "Task D: Unit vector of c: Matrix([[sqrt(14)/14], [sqrt(14)/7], [3*sqrt(14)/14]])\n",
            "Task E: Coordinates of v in the new basis (b1, b2, b3): {x: 3, y: 3, z: -1}\n"
          ]
        },
        {
          "output_type": "display_data",
          "data": {
            "text/plain": [
              "<Figure size 640x480 with 1 Axes>"
            ],
            "image/png": "[encoded data removed]"
          },
          "metadata": {}
        }
      ]
    }
  ],
  "metadata": {
    "kernelspec": {
      "display_name": "Python 3",
      "language": "python",
      "name": "python3"
    },
    "language_info": {
      "codemirror_mode": {
        "name": "ipython",
        "version": 3
      },
      "file_extension": ".py",
      "mimetype": "text/x-python",
      "name": "python",
      "nbconvert_exporter": "python",
      "pygments_lexer": "ipython3",
      "version": "3.11.9"
    },
    "colab": {
      "provenance": []
    }
  },
  "nbformat": 4,
  "nbformat_minor": 0
}