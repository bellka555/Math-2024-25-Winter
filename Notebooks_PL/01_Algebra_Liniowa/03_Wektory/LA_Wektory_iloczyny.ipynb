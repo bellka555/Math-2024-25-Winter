{
  "cells": [
    {
      "cell_type": "markdown",
      "metadata": {
        "id": "kt2pXp3xG5kI"
      },
      "source": [
        "# Wektory - Iloczyn skalarny, wektorowy, mieszany"
      ]
    },
    {
      "cell_type": "markdown",
      "metadata": {
        "id": "SZp0yvy4G5kK"
      },
      "source": [
        "\n",
        "## Iloczyn skalarny\n",
        "\n",
        "Iloczyn skalarny (zwany również iloczynem wewnętrznym) dwóch wektorów to operacja, która zwraca skalarną wartość. Jest definiowany jako suma iloczynów odpowiadających sobie współrzędnych dwóch wektorów.\n",
        "\n",
        "Dla dwóch wektorów $\\mathbf{a}$ i $\\mathbf{b}$ w przestrzeni $\\mathbb{R}^n$, gdzie:\n",
        "\n",
        "$$\n",
        "\\mathbf{a} = [a_1, a_2, \\dots, a_n], \\quad \\mathbf{b} = [b_1, b_2, \\dots, b_n]\n",
        "$$\n",
        "\n",
        "Iloczyn skalarny definiuje się następująco:\n",
        "\n",
        "$$\n",
        "\\mathbf{a} \\cdot \\mathbf{b} = a_1b_1 + a_2b_2 + \\dots + a_nb_n = \\sum_{i=1}^{n} a_i b_i\n",
        "$$\n",
        "\n",
        "Przykład dla przestrzeni trójwymiarowej ($ \\mathbb{R}^3 $):\n",
        "\n",
        "Dla wektorów $\\mathbf{a} = [a_1, a_2, a_3]$ oraz $\\mathbf{b} = [b_1, b_2, b_3]$, iloczyn skalarny to:\n",
        "\n",
        "$$\n",
        "\\mathbf{a} \\cdot \\mathbf{b} = a_1b_1 + a_2b_2 + a_3b_3\n",
        "$$\n",
        "\n",
        "Iloczyn skalarny zwraca liczbę, która jest miarą \"podobieństwa kierunku\" dwóch wektorów. Jeśli $\\mathbf{a} \\cdot \\mathbf{b} = 0$, to wektory są prostopadłe.\n",
        "\n",
        "Alternatywnie, iloczyn skalarny można zapisać jako:\n",
        "\n",
        "$$\n",
        "\\mathbf{a} \\cdot \\mathbf{b} = \\|\\mathbf{a}\\| \\|\\mathbf{b}\\| \\cos(\\theta),\n",
        "$$\n",
        "czyli iloczyn długości wektorów $\\mathbf{a}$ i $\\mathbf{b}$ pomnożony przez cosinus kąta między nimi."
      ]
    },
    {
      "cell_type": "markdown",
      "metadata": {
        "id": "IyDtr8mJG5kM"
      },
      "source": [
        "## Iloczyn wektorowy\n",
        "\n",
        "Iloczyn wektorowy (zwany również iloczynem zewnętrznym) to operacja, która zwraca nowy wektor prostopadły do dwóch wektorów wyjściowych. Jest zdefiniowany tylko w przestrzeni trójwymiarowej $ \\mathbb{R}^3 $.\n",
        "\n",
        "Dla dwóch wektorów $ \\mathbf{a} = [a_1, a_2, a_3] $ oraz $ \\mathbf{b} = [b_1, b_2, b_3] $, iloczyn wektorowy $ \\mathbf{a} \\times \\mathbf{b} $ definiuje się jako:\n",
        "\n",
        "$$ \\mathbf{a} \\times \\mathbf{b} =\n",
        "\\begin{vmatrix}\n",
        "\\mathbf{i} & \\mathbf{j} & \\mathbf{k} \\\\\n",
        "a_1 & a_2 & a_3 \\\\\n",
        "b_1 & b_2 & b_3\n",
        "\\end{vmatrix}\n",
        "$$\n",
        "\n",
        "Gdzie $ \\mathbf{i}, \\mathbf{j}, \\mathbf{k} $ to wektory jednostkowe wzdłuż osi $ x, y, z $. Dość zabawnie, aby policzyć iloczyny wektorowy i otrzymać finalny wektor używamy wyznacznika (skalara) z macierzy (tensor drugiego rzędu), wierszami której są wektory bazowe (wektory) i składowe wektorów (skalary).\n",
        "\n",
        "Iloczyn wektorowy można zapisać w postaci rozwiniętej:\n",
        "\n",
        "$$ \\mathbf{a} \\times \\mathbf{b} = \\left( a_2b_3 - a_3b_2 \\right)\\mathbf{i} - \\left( a_1b_3 - a_3b_1 \\right)\\mathbf{j} + \\left( a_1b_2 - a_2b_1 \\right)\\mathbf{k} $$\n",
        "\n",
        "Wynikiem iloczynu wektorowego jest nowy wektor:\n",
        "\n",
        "$$ \\mathbf{c} = \\mathbf{a} \\times \\mathbf{b} = [a_2b_3 - a_3b_2, a_3b_1 - a_1b_3, a_1b_2 - a_2b_1] $$\n",
        "\n",
        "Iloczyn wektorowy zwraca wektor $\\mathbf{c}$ prostopadły do płaszczyzny wyznaczonej przez $ \\mathbf{a} $ i $ \\mathbf{b} $, a jego długość jest równa powierzchni równoległoboku, którego boki są wyznaczone przez wektory $ \\mathbf{a} $ i $ \\mathbf{b} $\n",
        "$$\n",
        "|\\mathbf{c}| = |\\mathbf{a}| |\\mathbf{b}| \\sin \\theta\n",
        "$$\n",
        "\n",
        "gdzie $\\theta$ jest kątem między wektorami. Kierunek wektora $\\vec{c}$ określa reguła prawej dłoni."
      ]
    },
    {
      "cell_type": "markdown",
      "metadata": {
        "id": "8fikBnU9G5kN"
      },
      "source": [
        "## Iloczyn mieszany\n",
        "\n",
        "Iloczyn mieszany trzech wektorów $\\mathbf{a}, \\mathbf{b}, \\mathbf{c}$ jest definiowany jako:\n",
        "\n",
        "$$\n",
        "\\mathbf{a} \\cdot \\left( \\mathbf{b} \\times \\mathbf{c} \\right)\n",
        "$$\n",
        "\n",
        "Jest to równoważne iloczynowi skalarnemu $\\mathbf{a} \\times \\left( \\mathbf{b} \\times \\mathbf{c} \\right)$.\n",
        "\n",
        "Iloczyn mieszany jest równy zero, jeśli wektory $\\mathbf{a}, \\mathbf{b}, \\mathbf{c}$ są współliniowe lub równoległe.\n",
        "\n",
        "Objętość równoległościanu wyznaczonego przez trzy wektory $\\mathbf{a}, \\mathbf{b}, \\mathbf{c}$ jest równa wartości bezwzględnej iloczynu mieszanej tych wektorów."
      ]
    },
    {
      "cell_type": "markdown",
      "metadata": {
        "id": "h4OFlPKzG5kO"
      },
      "source": [
        "## Implementacja"
      ]
    },
    {
      "cell_type": "code",
      "execution_count": null,
      "metadata": {
        "id": "sGNf9mZEG5kP"
      },
      "outputs": [],
      "source": [
        "import sympy as sp\n",
        "# Definicje wektorów\n",
        "a = sp.Matrix([1, 2, 3])\n",
        "b = sp.Matrix([4, 5, 6])\n",
        "c= sp.Matrix([7, 0, 9])\n",
        "d= sp.Matrix([0, 2, 0])"
      ]
    },
    {
      "cell_type": "code",
      "execution_count": null,
      "metadata": {
        "id": "bxsJC1XJG5kQ",
        "outputId": "d0d0f989-1e9b-4961-c63b-c131041c2bfc",
        "colab": {
          "base_uri": "https://localhost:8080/",
          "height": 78
        }
      },
      "outputs": [
        {
          "output_type": "execute_result",
          "data": {
            "text/plain": [
              "Matrix([\n",
              "[7],\n",
              "[0],\n",
              "[9]])"
            ],
            "text/latex": "$\\displaystyle \\left[\\begin{matrix}7\\\\0\\\\9\\end{matrix}\\right]$"
          },
          "metadata": {},
          "execution_count": 2
        }
      ],
      "source": [
        "# wyświetlenie wektora c\n",
        "c"
      ]
    },
    {
      "cell_type": "code",
      "execution_count": null,
      "metadata": {
        "id": "7GSekFxcG5kR",
        "outputId": "6124f9cc-42c5-4796-a7cf-f71405a094a1",
        "colab": {
          "base_uri": "https://localhost:8080/",
          "height": 78
        }
      },
      "outputs": [
        {
          "output_type": "execute_result",
          "data": {
            "text/plain": [
              "Matrix([\n",
              "[5],\n",
              "[7],\n",
              "[9]])"
            ],
            "text/latex": "$\\displaystyle \\left[\\begin{matrix}5\\\\7\\\\9\\end{matrix}\\right]$"
          },
          "metadata": {},
          "execution_count": 3
        }
      ],
      "source": [
        "# dodawanie wektorów a i b\n",
        "a+b"
      ]
    },
    {
      "cell_type": "code",
      "execution_count": null,
      "metadata": {
        "id": "tc4gh2zFG5kR",
        "outputId": "a0a1cb1f-85a6-471d-81dc-90c029ea101e",
        "colab": {
          "base_uri": "https://localhost:8080/"
        }
      },
      "outputs": [
        {
          "output_type": "execute_result",
          "data": {
            "text/plain": [
              "True"
            ]
          },
          "metadata": {},
          "execution_count": 4
        }
      ],
      "source": [
        "# iloczyn skalarny a i b\n",
        "(1*4+2*5+3*6)==a.dot(b)"
      ]
    },
    {
      "cell_type": "code",
      "execution_count": null,
      "metadata": {
        "id": "nkQKVdj8G5kR",
        "outputId": "164501c0-5bbd-4fcd-80df-66d7ddc101c3",
        "colab": {
          "base_uri": "https://localhost:8080/"
        }
      },
      "outputs": [
        {
          "output_type": "execute_result",
          "data": {
            "text/plain": [
              "True"
            ]
          },
          "metadata": {},
          "execution_count": 5
        }
      ],
      "source": [
        "#iloczyn wektorowy a i c\n",
        "# a = [1, 2, 3]\n",
        "# c= [7, 0, 9]\n",
        "\n",
        "# Pomocniczo zapiszmy wektory jako macierze 3x3\n",
        "# i, j, k\n",
        "# 1, 2, 3\n",
        "# 7, 0, 9\n",
        "\n",
        "# Teraz\n",
        "comp1 = (2*9-3*0)\n",
        "comp2 = -(1*9-3*7)\n",
        "comp3 = (1*0-2*7)\n",
        "\n",
        "# Wynik\n",
        "sp.Matrix([comp1, comp2, comp3])==a.cross(c)"
      ]
    },
    {
      "cell_type": "code",
      "execution_count": null,
      "metadata": {
        "id": "pJMUscvyG5kR",
        "outputId": "8ad8e9e6-1374-4acd-b222-65304cff7a82",
        "colab": {
          "base_uri": "https://localhost:8080/"
        }
      },
      "outputs": [
        {
          "output_type": "execute_result",
          "data": {
            "text/plain": [
              "True"
            ]
          },
          "metadata": {},
          "execution_count": 6
        }
      ],
      "source": [
        "# Prostopadłość wektorów\n",
        "# c= [7, 0, 9]\n",
        "# d= [0, 2, 0]\n",
        "\n",
        "# Jeśli iloczyn skalarny wektorów jest równy 0, to znaczy, że są one prostopadłe\n",
        "iloczyn_skalarny = 7*0+0*2+9*0\n",
        "iloczyn_skalarny==0"
      ]
    },
    {
      "cell_type": "markdown",
      "metadata": {
        "id": "QrUhJPT8G5kR"
      },
      "source": [
        "## Zastosowania\n",
        "\n",
        "### Obliczanie kąta między wektorami\n",
        "\n",
        "$$\n",
        "\\cos \\theta = \\frac{\\mathbf{a} \\cdot \\mathbf{b}}{\\|\\mathbf{a}\\| \\|\\mathbf{b}\\|}\n",
        "$$\n",
        "\n",
        "### Sprawdzanie prostopadłości wektorów\n",
        "\n",
        "Wektory $\\mathbf{a}$ i $\\mathbf{b}$ są prostopadłe, jeśli ich iloczyn skalarny wynosi zero:\n",
        "$$\n",
        "\\mathbf{a} \\cdot \\mathbf{b} = 0\n",
        "\\quad \\Leftrightarrow \\quad\n",
        " \\mathbf{a} \\perp \\mathbf{b}\n",
        "$$\n",
        "\n",
        "### Znajdowanie rzutów wektorów na inne wektory\n",
        "\n",
        "$$\n",
        "\\text{Rzut} = \\frac{\\mathbf{a} \\cdot \\mathbf{b}}{\\|\\mathbf{b}\\|}\n",
        "$$\n",
        "\n",
        "### Obliczanie pracy wykonanej przez siłę w fizyce\n",
        "\n",
        "Dla siły $\\mathbf{F} = (F_x, F_y, F_z)$ działającej wzdłuż przemieszczenia $\\mathbf{d} = (d_x, d_y, d_z)$, praca obliczana jest zgodnie ze wzorem:\n",
        "\n",
        "$$\n",
        "W = \\mathbf{F} \\cdot \\mathbf{d} = |\\mathbf{F}| |\\mathbf{d}| \\cos \\theta = F_x d_x + F_y d_y + F_z d_z\n",
        "$$"
      ]
    },
    {
      "cell_type": "markdown",
      "metadata": {
        "id": "5ffXkxWlG5kR"
      },
      "source": [
        "### Moment siły\n",
        "\n",
        "W fizyce: moment siły (moment obrotowy) to iloczyn wektorowy wektora siły i ramienia:\n",
        "\n",
        "$$\n",
        "\\mathbf{M} = \\mathbf{r} \\times \\mathbf{F}\n",
        "$$\n",
        "\n",
        "### Obliczanie pola równoległoboku\n",
        "\n",
        "Pole równoległoboku rozpiętego na dwóch wektorach:\n",
        "\n",
        "$$\n",
        "\\text{Area}_{r} = \\mathbf{a} \\times \\mathbf{b} = |\\mathbf{a}| |\\mathbf{b}| \\sin \\theta\n",
        "$$\n",
        "\n",
        "### Obliczanie pola trójkąta\n",
        "\n",
        "Pole trójkąta rozpiętego na dwóch wektorach $\\mathbf{a}$ i $\\mathbf{b}$:\n",
        "\n",
        "$$\n",
        "\\text{Area}_{t} = \\frac{1}{2} |\\mathbf{a} \\times \\mathbf{b}|\n",
        "$$"
      ]
    },
    {
      "cell_type": "markdown",
      "metadata": {
        "id": "qKN83aMDG5kR"
      },
      "source": [
        "### Obliczanie objętości równoległościanów i czworościanów\n",
        "\n",
        "Iloczyn mieszany wektorów jest używany do obliczania objętości równoległościanów i czworościanów. Dla trzech wektorów **$\\mathbf{a}$**, **$\\mathbf{b}$** i **$\\mathbf{c}$**, objętość równoległościanu jest dana wzorem:\n",
        "\n",
        "$$\n",
        "V = |\\mathbf{a} \\cdot (\\mathbf{b} \\times \\mathbf{c})|\n",
        "$$\n",
        "(Uwaga: **| |** oznacza tutaj wartość bezwzględną, a nie długość!)\n",
        "\n",
        "### Sprawdzanie współpłaszczyznowości trzech wektorów\n",
        "\n",
        "Jeśli iloczyn mieszany trzech wektorów jest równy zeru, oznacza to, że wektory są współpłaszczyznowe. W przeciwnym razie, tworzą one czworościan."
      ]
    },
    {
      "cell_type": "markdown",
      "metadata": {
        "id": "WZZjxAwnG5kR"
      },
      "source": [
        "---\n",
        "\n",
        "## Zadania dla studentów\n",
        "\n",
        "A. Zrealizuj dodawanie wektora $[2, 1]$ do wektora $[-1, 1]$. Zaznacz oba wektory oraz ich sumę na wykresie.\n",
        "\n",
        "B. Policz pole trójkąta rozpiętego na wektorach $[2, 1]$ i $[-1, 1]$.\n",
        "\n",
        "C. Policz objętość równoległościanu rozpiętego na wektorach $[2, 1]$, $[-1, 1]$ i $[1, 2]$.\n",
        "\n",
        "D. Sprawdź, czy wektory $[2, 1]$ i $[-1, 1]$ są prostopadłe.\n",
        "\n",
        "E. Policz kąt w stopniach między wektorami $[4,2,1]$ a $[1,3,2]$.\n",
        "\n",
        "F. Dla wektorów trójwymiarowych: $\\mathbf{a}=[a_x, a_y, a_z]$, $\\mathbf{b}=[b_x, b_y, b_z]$, $\\mathbf{c}=[c_x, c_y, c_z]$, udowodnij, że spełniona jest tożsamość:\n",
        "\n",
        "$$\n",
        "\\mathbf{a} \\times (\\mathbf{b} \\times \\mathbf{c}) = (\\mathbf{a} \\cdot \\mathbf{c}) \\mathbf{b} - (\\mathbf{a} \\cdot \\mathbf{b}) \\mathbf{c}.\n",
        "$$"
      ]
    },
    {
      "cell_type": "markdown",
      "metadata": {
        "id": "TZKLJOOVG5kS"
      },
      "source": []
    },
    {
      "cell_type": "code",
      "source": [
        "import numpy as np\n",
        "import matplotlib.pyplot as plt\n",
        "\n",
        "v1 = np.array([2, 1])\n",
        "v2 = np.array([-1, 1])\n",
        "\n",
        "v_sum = v1 + v2\n",
        "\n",
        "plt.quiver(0, 0, v1[0], v1[1], angles='xy', scale_units='xy', scale=1, color='r', label='v1')\n",
        "plt.quiver(0, 0, v2[0], v2[1], angles='xy', scale_units='xy', scale=1, color='b', label='v2')\n",
        "plt.quiver(0, 0, v_sum[0], v_sum[1], angles='xy', scale_units='xy', scale=1, color='g', label='v1 + v2')\n",
        "\n",
        "plt.xlim(-2, 3)\n",
        "plt.ylim(-1, 3)\n",
        "\n",
        "plt.legend()\n",
        "plt.grid()\n",
        "plt.xlabel(\"x\")\n",
        "plt.ylabel(\"y\")\n",
        "plt.show()"
      ],
      "metadata": {
        "id": "_8lh3ueXJxTV",
        "outputId": "bb9241f9-7fb2-4b66-8c0e-2c516934f76a",
        "colab": {
          "base_uri": "https://localhost:8080/",
          "height": 455
        }
      },
      "execution_count": 1,
      "outputs": [
        {
          "output_type": "display_data",
          "data": {
            "text/plain": [
              "<Figure size 640x480 with 1 Axes>"
            ],
            "image/png": "[encoded data removed]"
          },
          "metadata": {}
        }
      ]
    },
    {
      "cell_type": "code",
      "source": [
        "import sympy as sp\n",
        "\n",
        "A= sp.Matrix([2, 1])\n",
        "B= sp.Matrix([-1,1])\n",
        "\n",
        "cross_AB = (2 * 1)-(1 *(-1))\n",
        "\n",
        "pole = 1/2 * cross_AB\n",
        "pole"
      ],
      "metadata": {
        "id": "AklMC-L2hFzw",
        "outputId": "f7e6c92b-671f-4f14-ab2f-4ca055fbb872",
        "colab": {
          "base_uri": "https://localhost:8080/"
        }
      },
      "execution_count": 11,
      "outputs": [
        {
          "output_type": "execute_result",
          "data": {
            "text/plain": [
              "1.5"
            ]
          },
          "metadata": {},
          "execution_count": 11
        }
      ]
    },
    {
      "cell_type": "code",
      "source": [
        "v1 = np.array([2, 1, 1])\n",
        "v2 = np.array([-1, 1, 1])\n",
        "v3 = np.array([1, 2, 2])\n",
        "\n",
        "cross_v2_v3 = np.cross(v2, v3)\n",
        "\n",
        "volume = abs(np.dot(v1, cross_v2_v3))\n",
        "volume"
      ],
      "metadata": {
        "id": "EcXbPvLohP07",
        "outputId": "5f2d945c-a132-4396-f939-eb9825ea9de2",
        "colab": {
          "base_uri": "https://localhost:8080/"
        }
      },
      "execution_count": 3,
      "outputs": [
        {
          "output_type": "execute_result",
          "data": {
            "text/plain": [
              "0"
            ]
          },
          "metadata": {},
          "execution_count": 3
        }
      ]
    },
    {
      "cell_type": "code",
      "source": [
        "v1 = np.array([2, 1])\n",
        "v2 = np.array([-1, 1])\n",
        "\n",
        "dot_product = np.dot(v1, v2)\n",
        "\n",
        "is_perpendicular = dot_product == 0\n",
        "is_perpendicular"
      ],
      "metadata": {
        "id": "jnSy-FvShWWi",
        "outputId": "4fa897ab-33bb-4bbf-dcf3-dc8d2caf2071",
        "colab": {
          "base_uri": "https://localhost:8080/"
        }
      },
      "execution_count": 4,
      "outputs": [
        {
          "output_type": "execute_result",
          "data": {
            "text/plain": [
              "False"
            ]
          },
          "metadata": {},
          "execution_count": 4
        }
      ]
    },
    {
      "cell_type": "code",
      "source": [
        "v1 = np.array([4, 2, 1])\n",
        "v2 = np.array([1, 3, 2])\n",
        "\n",
        "dot_product = np.dot(v1, v2)\n",
        "mag_v1 = np.linalg.norm(v1)\n",
        "mag_v2 = np.linalg.norm(v2)\n",
        "\n",
        "cos_theta = dot_product / (mag_v1 * mag_v2)\n",
        "angle_rad = np.arccos(cos_theta)\n",
        "angle_deg = np.degrees(angle_rad)\n",
        "angle_deg"
      ],
      "metadata": {
        "id": "yIlkcgEph2Uo",
        "outputId": "382219f3-b9f8-4ddc-fedf-214a1b11c8c3",
        "colab": {
          "base_uri": "https://localhost:8080/"
        }
      },
      "execution_count": 5,
      "outputs": [
        {
          "output_type": "execute_result",
          "data": {
            "text/plain": [
              "45.58469140280702"
            ]
          },
          "metadata": {},
          "execution_count": 5
        }
      ]
    },
    {
      "cell_type": "code",
      "source": [
        "a = np.array([a1, a2, a3])\n",
        "b = np.array([b1, b2, b3])\n",
        "c = np.array([c1, c2, c3])\n",
        "\n",
        "left_side = np.cross(a, np.cross(b, c))\n",
        "\n",
        "right_side = (np.dot(a, c) * b) - (np.dot(a, b) * c)\n",
        "\n",
        "identity_holds = np.allclose(left_side, right_side)\n",
        "identity_holds"
      ],
      "metadata": {
        "id": "w90j5aw6h6ht",
        "outputId": "9ef5d99b-d64a-4d7d-fda0-85b18d866fd6",
        "colab": {
          "base_uri": "https://localhost:8080/",
          "height": 211
        }
      },
      "execution_count": 7,
      "outputs": [
        {
          "output_type": "error",
          "ename": "NameError",
          "evalue": "name 'a1' is not defined",
          "traceback": [
            "\u001b[0;31m---------------------------------------------------------------------------\u001b[0m",
            "\u001b[0;31mNameError\u001b[0m                                 Traceback (most recent call last)",
            "\u001b[0;32m<ipython-input-7-f8be78bf9592>\u001b[0m in \u001b[0;36m<cell line: 1>\u001b[0;34m()\u001b[0m\n\u001b[0;32m----> 1\u001b[0;31m \u001b[0ma\u001b[0m \u001b[0;34m=\u001b[0m \u001b[0mnp\u001b[0m\u001b[0;34m.\u001b[0m\u001b[0marray\u001b[0m\u001b[0;34m(\u001b[0m\u001b[0;34m[\u001b[0m\u001b[0ma1\u001b[0m\u001b[0;34m,\u001b[0m \u001b[0ma2\u001b[0m\u001b[0;34m,\u001b[0m \u001b[0ma3\u001b[0m\u001b[0;34m]\u001b[0m\u001b[0;34m)\u001b[0m\u001b[0;34m\u001b[0m\u001b[0;34m\u001b[0m\u001b[0m\n\u001b[0m\u001b[1;32m      2\u001b[0m \u001b[0mb\u001b[0m \u001b[0;34m=\u001b[0m \u001b[0mnp\u001b[0m\u001b[0;34m.\u001b[0m\u001b[0marray\u001b[0m\u001b[0;34m(\u001b[0m\u001b[0;34m[\u001b[0m\u001b[0mb1\u001b[0m\u001b[0;34m,\u001b[0m \u001b[0mb2\u001b[0m\u001b[0;34m,\u001b[0m \u001b[0mb3\u001b[0m\u001b[0;34m]\u001b[0m\u001b[0;34m)\u001b[0m\u001b[0;34m\u001b[0m\u001b[0;34m\u001b[0m\u001b[0m\n\u001b[1;32m      3\u001b[0m \u001b[0mc\u001b[0m \u001b[0;34m=\u001b[0m \u001b[0mnp\u001b[0m\u001b[0;34m.\u001b[0m\u001b[0marray\u001b[0m\u001b[0;34m(\u001b[0m\u001b[0;34m[\u001b[0m\u001b[0mc1\u001b[0m\u001b[0;34m,\u001b[0m \u001b[0mc2\u001b[0m\u001b[0;34m,\u001b[0m \u001b[0mc3\u001b[0m\u001b[0;34m]\u001b[0m\u001b[0;34m)\u001b[0m\u001b[0;34m\u001b[0m\u001b[0;34m\u001b[0m\u001b[0m\n\u001b[1;32m      4\u001b[0m \u001b[0;34m\u001b[0m\u001b[0m\n\u001b[1;32m      5\u001b[0m \u001b[0mleft_side\u001b[0m \u001b[0;34m=\u001b[0m \u001b[0mnp\u001b[0m\u001b[0;34m.\u001b[0m\u001b[0mcross\u001b[0m\u001b[0;34m(\u001b[0m\u001b[0ma\u001b[0m\u001b[0;34m,\u001b[0m \u001b[0mnp\u001b[0m\u001b[0;34m.\u001b[0m\u001b[0mcross\u001b[0m\u001b[0;34m(\u001b[0m\u001b[0mb\u001b[0m\u001b[0;34m,\u001b[0m \u001b[0mc\u001b[0m\u001b[0;34m)\u001b[0m\u001b[0;34m)\u001b[0m\u001b[0;34m\u001b[0m\u001b[0;34m\u001b[0m\u001b[0m\n",
            "\u001b[0;31mNameError\u001b[0m: name 'a1' is not defined"
          ]
        }
      ]
    }
  ],
  "metadata": {
    "kernelspec": {
      "display_name": "Python 3",
      "language": "python",
      "name": "python3"
    },
    "language_info": {
      "codemirror_mode": {
        "name": "ipython",
        "version": 3
      },
      "file_extension": ".py",
      "mimetype": "text/x-python",
      "name": "python",
      "nbconvert_exporter": "python",
      "pygments_lexer": "ipython3",
      "version": "3.11.9"
    },
    "colab": {
      "provenance": []
    }
  },
  "nbformat": 4,
  "nbformat_minor": 0
}