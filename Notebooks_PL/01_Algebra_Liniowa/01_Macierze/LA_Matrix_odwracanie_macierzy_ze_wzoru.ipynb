{
  "cells": [
    {
      "cell_type": "markdown",
      "metadata": {
        "id": "KY3aF6JyGU2T"
      },
      "source": [
        "# Odwracanie macierzy\n",
        "\n",
        "Macierz odwrotna do macierzy $A$ to taka macierz $A^{-1}$, że $A \\cdot A^{-1} = A^{-1} \\cdot A = I$, gdzie $I$ to macierz jednostkowa."
      ]
    },
    {
      "cell_type": "markdown",
      "metadata": {
        "id": "DCZuxrJ-GU2V"
      },
      "source": [
        "**Przykład 1:**"
      ]
    },
    {
      "cell_type": "code",
      "execution_count": 5,
      "metadata": {
        "id": "fJ3iCt-GGU2W",
        "outputId": "64bf2604-00ff-43c7-e337-5b3bb13bb0e5",
        "colab": {
          "base_uri": "https://localhost:8080/",
          "height": 78
        }
      },
      "outputs": [
        {
          "output_type": "execute_result",
          "data": {
            "text/plain": [
              "Matrix([\n",
              "[2, 1, 2],\n",
              "[5, 3, 1],\n",
              "[1, 1, 5]])"
            ],
            "text/latex": "$\\displaystyle \\left[\\begin{matrix}2 & 1 & 2\\\\5 & 3 & 1\\\\1 & 1 & 5\\end{matrix}\\right]$"
          },
          "metadata": {},
          "execution_count": 5
        }
      ],
      "source": [
        "import sympy as sp #import sympy library\n",
        "k1=sp.Matrix([[2, 1, 2], [5, 3, 1],[1, 1, 5]]) #stwórz macierz k1\n",
        "k1"
      ]
    },
    {
      "cell_type": "code",
      "execution_count": 4,
      "metadata": {
        "id": "jBxp1VjIGU2X",
        "outputId": "1aeb4cb7-2a1d-42f7-8f5c-6e121ff8ea94",
        "colab": {
          "base_uri": "https://localhost:8080/",
          "height": 78
        }
      },
      "outputs": [
        {
          "output_type": "execute_result",
          "data": {
            "text/plain": [
              "Matrix([\n",
              "[0, -2,  1],\n",
              "[0,  1,  0],\n",
              "[1,  4, -2]])"
            ],
            "text/latex": "$\\displaystyle \\left[\\begin{matrix}0 & -2 & 1\\\\0 & 1 & 0\\\\1 & 4 & -2\\end{matrix}\\right]$"
          },
          "metadata": {},
          "execution_count": 4
        }
      ],
      "source": [
        "inverse_k1 = k1.inv() #oblicz odwrotność macierzy k1\n",
        "inverse_k1"
      ]
    },
    {
      "cell_type": "code",
      "execution_count": 6,
      "metadata": {
        "id": "4MEYf5FOGU2X",
        "outputId": "beef0071-229d-435e-9b83-6f2e85938998",
        "colab": {
          "base_uri": "https://localhost:8080/",
          "height": 78
        }
      },
      "outputs": [
        {
          "output_type": "execute_result",
          "data": {
            "text/plain": [
              "Matrix([\n",
              "[2,  5, -2],\n",
              "[1, -3,  3],\n",
              "[5, 19, -9]])"
            ],
            "text/latex": "$\\displaystyle \\left[\\begin{matrix}2 & 5 & -2\\\\1 & -3 & 3\\\\5 & 19 & -9\\end{matrix}\\right]$"
          },
          "metadata": {},
          "execution_count": 6
        }
      ],
      "source": [
        "k1*inverse_k1 # sprawdzamy czy mnożenie macierzy przez jej odwrotność daje macierz jednostkową"
      ]
    },
    {
      "cell_type": "markdown",
      "metadata": {
        "id": "SQgtSNB9GU2X"
      },
      "source": [
        "**Przykład 2:**"
      ]
    },
    {
      "cell_type": "code",
      "execution_count": null,
      "metadata": {
        "id": "X7YMIg3MGU2Y",
        "outputId": "de2801e3-911b-49a4-fe37-1c2a2d649e6e"
      },
      "outputs": [
        {
          "data": {
            "text/latex": [
              "$\\displaystyle \\left[\\begin{matrix}\\frac{e i - f h}{a e i - a f h - b d i + b f g + c d h - c e g} & \\frac{- b i + c h}{a e i - a f h - b d i + b f g + c d h - c e g} & \\frac{b f - c e}{a e i - a f h - b d i + b f g + c d h - c e g}\\\\\\frac{- d i + f g}{a e i - a f h - b d i + b f g + c d h - c e g} & \\frac{a i - c g}{a e i - a f h - b d i + b f g + c d h - c e g} & \\frac{- a f + c d}{a e i - a f h - b d i + b f g + c d h - c e g}\\\\\\frac{d h - e g}{a e i - a f h - b d i + b f g + c d h - c e g} & \\frac{- a h + b g}{a e i - a f h - b d i + b f g + c d h - c e g} & \\frac{a e - b d}{a e i - a f h - b d i + b f g + c d h - c e g}\\end{matrix}\\right]$"
            ],
            "text/plain": [
              "Matrix([\n",
              "[ (e*i - f*h)/(a*e*i - a*f*h - b*d*i + b*f*g + c*d*h - c*e*g), (-b*i + c*h)/(a*e*i - a*f*h - b*d*i + b*f*g + c*d*h - c*e*g),  (b*f - c*e)/(a*e*i - a*f*h - b*d*i + b*f*g + c*d*h - c*e*g)],\n",
              "[(-d*i + f*g)/(a*e*i - a*f*h - b*d*i + b*f*g + c*d*h - c*e*g),  (a*i - c*g)/(a*e*i - a*f*h - b*d*i + b*f*g + c*d*h - c*e*g), (-a*f + c*d)/(a*e*i - a*f*h - b*d*i + b*f*g + c*d*h - c*e*g)],\n",
              "[ (d*h - e*g)/(a*e*i - a*f*h - b*d*i + b*f*g + c*d*h - c*e*g), (-a*h + b*g)/(a*e*i - a*f*h - b*d*i + b*f*g + c*d*h - c*e*g),  (a*e - b*d)/(a*e*i - a*f*h - b*d*i + b*f*g + c*d*h - c*e*g)]])"
            ]
          },
          "execution_count": 9,
          "metadata": {},
          "output_type": "execute_result"
        }
      ],
      "source": [
        "import sympy as sp\n",
        "a,b,c,d,e,f,g,h,i = sp.symbols('a b c d e f g h i') #definiujemy zmienne a-i\n",
        "k=sp.Matrix([[a, b, c], [d, e, f], [g, h, i]]) #tworzymy macierz k\n",
        "inverse_k = k.inv()\n",
        "inverse_k"
      ]
    },
    {
      "cell_type": "markdown",
      "metadata": {
        "id": "u-jzWFF5GU2Y"
      },
      "source": [
        "Ta skomplikowana postać wynika ze wzoru, który pozwala na obliczenie elementów macierzy odwrotnej. Zanim do niego przejdziemy, zdefiniujmy kilka pojęć."
      ]
    },
    {
      "cell_type": "markdown",
      "metadata": {
        "id": "cSwP4H75GU2Y"
      },
      "source": [
        "**Transpozycja macierzy** jest operacją, która zamienia wiersze na kolumny. Transponowana macierz do macierzy $A$ to taka macierz $A^T$, że $A^T_{ij} = A_{ji}$."
      ]
    },
    {
      "cell_type": "code",
      "execution_count": null,
      "metadata": {
        "id": "3HQ1I676GU2Y",
        "outputId": "c681b0cc-cc61-4d64-a25d-99aec927c4a5"
      },
      "outputs": [
        {
          "data": {
            "text/latex": [
              "$\\displaystyle \\left[\\begin{matrix}a & b & c\\\\d & e & f\\\\g & h & i\\end{matrix}\\right]$"
            ],
            "text/plain": [
              "Matrix([\n",
              "[a, b, c],\n",
              "[d, e, f],\n",
              "[g, h, i]])"
            ]
          },
          "execution_count": 10,
          "metadata": {},
          "output_type": "execute_result"
        }
      ],
      "source": [
        "k"
      ]
    },
    {
      "cell_type": "code",
      "execution_count": null,
      "metadata": {
        "id": "PF10mvu0GU2Y",
        "outputId": "45885d98-6e3d-4d15-bb59-ee29cd8b2951"
      },
      "outputs": [
        {
          "data": {
            "text/latex": [
              "$\\displaystyle \\left[\\begin{matrix}a & d & g\\\\b & e & h\\\\c & f & i\\end{matrix}\\right]$"
            ],
            "text/plain": [
              "Matrix([\n",
              "[a, d, g],\n",
              "[b, e, h],\n",
              "[c, f, i]])"
            ]
          },
          "execution_count": 11,
          "metadata": {},
          "output_type": "execute_result"
        }
      ],
      "source": [
        "k.transpose() #transponujemy macierz k"
      ]
    },
    {
      "cell_type": "markdown",
      "metadata": {
        "id": "hUdygwpPGU2Y"
      },
      "source": [
        "**Podwyznacznik** (minor) macierzy $A$ to wyznacznik macierzy, z której usunięto $i$-ty wiersz i $j$-tą kolumnę. Oznaczmy go $M_{ij}$."
      ]
    },
    {
      "cell_type": "code",
      "execution_count": null,
      "metadata": {
        "id": "b6aoTBYkGU2Y",
        "outputId": "7aa7d551-958c-4b42-d8b5-59179b58afb3"
      },
      "outputs": [
        {
          "data": {
            "text/latex": [
              "$\\displaystyle \\left[\\begin{matrix}1 & 2 & 3\\\\4 & 5 & 6\\\\7 & 8 & 9\\end{matrix}\\right]$"
            ],
            "text/plain": [
              "Matrix([\n",
              "[1, 2, 3],\n",
              "[4, 5, 6],\n",
              "[7, 8, 9]])"
            ]
          },
          "execution_count": 12,
          "metadata": {},
          "output_type": "execute_result"
        }
      ],
      "source": [
        "# Podwyznacznik (minor) macierzy $A$ to wyznacznik macierzy, z której usunięto $i$-ty wiersz i $j$-tą kolumnę. Oznaczmy go $M_{ij}$.\n",
        "k2=sp.Matrix([[1, 2, 3], [4, 5, 6], [7, 8, 9]])\n",
        "k2"
      ]
    },
    {
      "cell_type": "code",
      "execution_count": null,
      "metadata": {
        "id": "KEfRYzsZGU2Y",
        "outputId": "eb04e17f-8002-49b7-8e1a-27fa23c49153"
      },
      "outputs": [
        {
          "data": {
            "text/latex": [
              "$\\displaystyle \\left[\\begin{matrix}4 & 6\\\\7 & 9\\end{matrix}\\right]$"
            ],
            "text/plain": [
              "Matrix([\n",
              "[4, 6],\n",
              "[7, 9]])"
            ]
          },
          "execution_count": 13,
          "metadata": {},
          "output_type": "execute_result"
        }
      ],
      "source": [
        "M01 = k2.minor_submatrix(0, 1) #obliczamy minor M01\n",
        "M01"
      ]
    },
    {
      "cell_type": "code",
      "execution_count": null,
      "metadata": {
        "id": "9gYJxVJsGU2Z",
        "outputId": "b8742559-7eea-4fda-8fbc-d843b7a1b51b"
      },
      "outputs": [
        {
          "data": {
            "text/latex": [
              "$\\displaystyle \\left[\\begin{matrix}1 & 2\\\\4 & 5\\end{matrix}\\right]$"
            ],
            "text/plain": [
              "Matrix([\n",
              "[1, 2],\n",
              "[4, 5]])"
            ]
          },
          "execution_count": 14,
          "metadata": {},
          "output_type": "execute_result"
        }
      ],
      "source": [
        "M22 = k2.minor_submatrix(2, 2)  #obliczamy minor M22\n",
        "M22"
      ]
    },
    {
      "cell_type": "markdown",
      "metadata": {
        "id": "Q6tFD8z1GU2Z"
      },
      "source": [
        "**Dopełnienie algebraiczne** elementu $a_{ij}= (-1)^{i+j} \\, M_{ij}$, czyli podwyznacznik pomnożony przez $(-1)^{i+j}$."
      ]
    },
    {
      "cell_type": "markdown",
      "metadata": {
        "id": "eY9ZXGwQGU2Z"
      },
      "source": [
        "**Rząd macierzy** to stopień największego, niezerowego minora tej macierzy. Rząd macierzy równy jest ilości liniowo niezależnych wierszy lub kolumn w macierzy."
      ]
    },
    {
      "cell_type": "code",
      "execution_count": null,
      "metadata": {
        "id": "4FpnvEDRGU2Z",
        "outputId": "63400d7d-7087-49b4-9e77-e6a4aa1e46de"
      },
      "outputs": [
        {
          "data": {
            "text/plain": [
              "2"
            ]
          },
          "execution_count": 16,
          "metadata": {},
          "output_type": "execute_result"
        }
      ],
      "source": [
        "k2.rank()   #obliczamy rząd macierzy k2"
      ]
    },
    {
      "cell_type": "markdown",
      "metadata": {
        "id": "QqtAK-RbGU2Z"
      },
      "source": [
        "### Macierz odwrotna 3x3\n",
        "\n",
        "Wykorzystanie transpozycji macierzy dopełnień algebraicznych (minorów):\n",
        "\n",
        "$$K^{-1} =\n",
        "\\begin{bmatrix}\n",
        "a & b & c \\\\\n",
        "d & e & f \\\\\n",
        "g & h & i\n",
        "\\end{bmatrix}^{-1}\n",
        "= \\frac{1}{\\det(\\mathbf{K})}\n",
        "\\begin{bmatrix}\n",
        "A & B & C \\\\\n",
        "D & E & F \\\\\n",
        "G & H & I\n",
        "\\end{bmatrix}^T\n",
        "= \\frac{1}{\\det(\\mathbf{A})}\n",
        "\\begin{bmatrix}\n",
        "A & D & G \\\\\n",
        "B & E & H \\\\\n",
        "C & F & I\n",
        "\\end{bmatrix}\n",
        "$$\n",
        "\n",
        "Jeśli wyznacznik jest różny od zera, macierz jest odwracalna, a elementy macierzy pośredniej po prawej stronie powyższego wzoru są określone przez:\n",
        "\n",
        "$$\n",
        "\\begin{aligned}\n",
        "A &= det ( \\begin{bmatrix} e & f \\\\ h & i \\end{bmatrix} ) & B &= - det ( \\begin{bmatrix} d & f \\\\ g & i \\end{bmatrix} ) & C &= det ( \\begin{bmatrix} d & e \\\\ g & h \\end{bmatrix} ) \\\\\n",
        "D &= - det ( \\begin{bmatrix} b & c \\\\ h & i \\end{bmatrix} ) & E &= det ( \\begin{bmatrix} a & c \\\\ g & i \\end{bmatrix} ) & F &= - det ( \\begin{bmatrix} a & b \\\\ g & h \\end{bmatrix} ) \\\\\n",
        "G &= det ( \\begin{bmatrix} b & c \\\\ e & f \\end{bmatrix} ) & H &= - det ( \\begin{bmatrix} a & c \\\\ d & f \\end{bmatrix} ) & I &= det ( \\begin{bmatrix} a & b \\\\ d & e \\end{bmatrix} )\n",
        "\\end{aligned}\n",
        "$$\n",
        "czyli przez wyznaczniki macierzy 2x2, które powstają przez usunięcie odpowiednich wierszy i kolumn oraz przez uwzględnienie znaku $(-1)^{i+j}$."
      ]
    },
    {
      "cell_type": "markdown",
      "metadata": {
        "id": "w2UyX4ZtGU2Z"
      },
      "source": [
        "### Macierz odwrotna 2x2\n",
        "\n",
        "Analogicznie, dla macierzy 2x2, można obliczyć macierz odwrotną przy użyciu macierzy dopełnień algebraicznych:\n",
        "\n",
        "$$\n",
        "\\mathbf{L}^{-1} =\n",
        "\\begin{bmatrix}\n",
        "a & b \\\\\n",
        "c & d\n",
        "\\end{bmatrix}^{-1}\n",
        "= \\frac{1}{\\det(\\mathbf{L})}\n",
        "\\begin{bmatrix}\n",
        "D & C \\\\\n",
        "B & A\n",
        "\\end{bmatrix}^T\n",
        "= \\frac{1}{\\det(\\mathbf{L})}\n",
        "\\begin{bmatrix}\n",
        "D & B \\\\\n",
        "C & A\n",
        "\\end{bmatrix}\n",
        "$$\n",
        "\n",
        "gdzie $\\det(\\mathbf{L}) = ad - bc$\n",
        "\n",
        "Jeśli wyznacznik jest różny od zera to macierz jest odwracalna, a elementy macierzy pośredniej są określone jako:\n",
        "\n",
        "$$\n",
        "\\begin{aligned}\n",
        "A &= \\det \\begin{bmatrix} d \\end{bmatrix} = d, & B &= -\\det \\begin{bmatrix} b \\end{bmatrix} = -b, & C &= -\\det \\begin{bmatrix} c \\end{bmatrix} = -c, &\n",
        "D &= \\det \\begin{bmatrix} a \\end{bmatrix} = a.\n",
        "\\end{aligned}\n",
        "$$\n",
        "\n",
        "Elementy te powstają przez obliczenie wyznaczników macierzy 1x1, które powstają przez usunięcie odpowiednich wierszy i kolumn z oryginalnej macierzy 2x2 oraz przez zastosowanie odpowiednich znaków $(-1)^{i+j}$."
      ]
    },
    {
      "cell_type": "markdown",
      "metadata": {
        "id": "3Kep0ispGU2Z"
      },
      "source": [
        "---\n",
        "## Zadania dla  studentów"
      ]
    },
    {
      "cell_type": "markdown",
      "metadata": {
        "id": "GLWJvuxpGU2Z"
      },
      "source": [
        "1. Wylicz ze wzoru macierz odwrotną do macierzy\n",
        "\n",
        "$$\n",
        "\\begin{bmatrix}\n",
        "2 & 0 & 1 \\\\\n",
        "0 & 1 & 0 \\\\\n",
        "1 & 2 & 0\n",
        "\\end{bmatrix}\n",
        "$$\n",
        "\n",
        "i sprawdź, czy wynik jest poprawny.\n",
        "\n",
        "2. Posługując się komendą `det()` ustal rząd macierzy poniżej\n",
        "$$\n",
        "A =\n",
        "\\begin{bmatrix}\n",
        "4 & -3 & 7 \\\\\n",
        "-1 & 6 & 3 \\\\\n",
        "2 & 9 & 1\n",
        "\\end{bmatrix}\n",
        "$$"
      ]
    },
    {
      "cell_type": "code",
      "source": [
        "import sympy as sp\n",
        "k1 = sp.Matrix([[2, 0, 1],[0, 1, 0],[1, 2, 0]])\n",
        "k2 = sp.Matrix([[4, -3, 7],[-1, 6, 3],[2, 9, 1]])\n",
        "\n",
        "inverse_k1 = k1.inv()\n",
        "\n",
        "# Computing determinant using sympy\n",
        "deterk2 = k2.det()\n",
        "\n",
        "print(inverse_k1, deterk2)"
      ],
      "metadata": {
        "id": "FiXC5hVcGfV7",
        "outputId": "92554d75-e20c-48c0-baac-88b0d582ed8d",
        "colab": {
          "base_uri": "https://localhost:8080/"
        }
      },
      "execution_count": 16,
      "outputs": [
        {
          "output_type": "stream",
          "name": "stdout",
          "text": [
            "Matrix([[0, -2, 1], [0, 1, 0], [1, 4, -2]]) -252\n"
          ]
        }
      ]
    }
  ],
  "metadata": {
    "kernelspec": {
      "display_name": "Python 3",
      "language": "python",
      "name": "python3"
    },
    "language_info": {
      "codemirror_mode": {
        "name": "ipython",
        "version": 3
      },
      "file_extension": ".py",
      "mimetype": "text/x-python",
      "name": "python",
      "nbconvert_exporter": "python",
      "pygments_lexer": "ipython3",
      "version": "3.11.9"
    },
    "colab": {
      "provenance": []
    }
  },
  "nbformat": 4,
  "nbformat_minor": 0
}