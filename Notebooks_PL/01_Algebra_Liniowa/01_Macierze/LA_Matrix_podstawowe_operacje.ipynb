{
  "cells": [
    {
      "cell_type": "markdown",
      "metadata": {
        "id": "PH0kAfIDDPDU"
      },
      "source": [
        "## Podstawowe operacje na macierzach\n",
        "\n",
        "### Dodawanie macierzy\n",
        "\n",
        "Niech $A=[a_{ij}]$ i $B=[b_{ij}]$ będą dwiema macierzami o wymiarach $m \\times n$. Wówczas suma macierzy $A$ i $B$ jest macierzą $C=[c_{ij}]$ o wymiarach $m \\times n$, gdzie $c_{ij}=a_{ij}+b_{ij}$.\n",
        "\n",
        "### Mnożenie macierzy przez skalar\n",
        "\n",
        "Niech $A=[a_{ij}]$ będzie macierzą o wymiarach $m \\times n$, a $k$ będzie skalar. Wówczas iloczyn macierzy $A$ i skalaru $k$ jest macierzą $B=[b_{ij}]$ o wymiarach $m \\times n$, gdzie $b_{ij}=k \\cdot a_{ij}$.\n",
        "\n",
        "### Mnożenie macierzy\n",
        "\n",
        "Niech $A=[a_{ij}]$ będzie macierzą o wymiarach $m \\times n$, a $B=[b_{ij}]$ będzie macierzą o wymiarach $n \\times p$. Wówczas iloczyn macierzy $A$ i $B$ jest macierzą $C=[c_{ij}]$ o wymiarach $m \\times p$, gdzie $c_{ij}=\\sum_{k=1}^{n} a_{ik} \\cdot b_{kj}$."
      ]
    },
    {
      "cell_type": "markdown",
      "metadata": {
        "id": "jX9LGXc4DPDW"
      },
      "source": [
        "### Przykład 1\n",
        "\n",
        "Niech $A=\\begin{bmatrix} 1 & 2 \\\\ 3 & 4 \\end{bmatrix}$ i $B=\\begin{bmatrix} 5 & 6 \\\\ 7 & 8 \\end{bmatrix}$.\n",
        "Wówczas suma macierzy $A$ i $B$ wynosi\n",
        "\n",
        "$$\n",
        "C=\n",
        "A+B=\\begin{bmatrix} 1+5 & 2+6 \\\\ 3+7 & 4+8 \\end{bmatrix}=\\begin{bmatrix} 6 & 8 \\\\ 10 & 12 \\end{bmatrix}.\n",
        "$$\n",
        "\n",
        "### Przykład 2\n",
        "\n",
        "Niech $A=\\begin{bmatrix} 1 & 2 \\\\ 3 & 4 \\end{bmatrix}$ i $k=2$.\n",
        "\n",
        "Wówczas iloczyn macierzy $A$ i skalaru $k$ wynosi\n",
        "\n",
        "$$\n",
        "B=\n",
        "k \\cdot A=2 \\cdot \\begin{bmatrix} 1 & 2 \\\\ 3 & 4 \\end{bmatrix}=\\begin{bmatrix} 2*1 & 2*2 \\\\ 2*3 & 2*4 \\end{bmatrix}=\\begin{bmatrix} 2 & 4 \\\\ 6 & 8 \\end{bmatrix}.\n",
        "$$\n",
        "\n",
        "### Przykład 3\n",
        "\n",
        "Niech\n",
        "$A=\\begin{bmatrix} 1 & 2 \\\\ 3 & 4 \\end{bmatrix}$\n",
        "i\n",
        "$B=\\begin{bmatrix} 5 & 6 \\\\ 7 & 8 \\end{bmatrix}$.\n",
        "\n",
        "Wówczas iloczyn macierzy $A$ i $B$ wynosi\n",
        "\n",
        "$$\n",
        "C=\n",
        "A \\cdot B=\\begin{bmatrix} 1*5+2*7 & 1*6+2*8 \\\\ 3*5+4*7 & 3*6+4*8 \\end{bmatrix}=\\begin{bmatrix} 19 & 22 \\\\ 43 & 50 \\end{bmatrix}.\n",
        "$$\n"
      ]
    },
    {
      "cell_type": "code",
      "execution_count": null,
      "metadata": {
        "id": "WzAOPvwLDPDX",
        "outputId": "c7113faa-9322-481d-eaca-f5c80421fc7e",
        "colab": {
          "base_uri": "https://localhost:8080/",
          "height": 58
        }
      },
      "outputs": [
        {
          "output_type": "execute_result",
          "data": {
            "text/plain": [
              "Matrix([\n",
              "[1, 2],\n",
              "[3, 4]])"
            ],
            "text/latex": "$\\displaystyle \\left[\\begin{matrix}1 & 2\\\\3 & 4\\end{matrix}\\right]$"
          },
          "metadata": {},
          "execution_count": 3
        }
      ],
      "source": [
        "# Przykład 1: dodawania macierzy w sympy\n",
        "import sympy as sp\n",
        "\n",
        "A=sp.Matrix([[1,2],[3,4]])\n",
        "B=sp.Matrix([[5,6],[7,8]])\n",
        "A # wyswietla macierz A"
      ]
    },
    {
      "cell_type": "code",
      "execution_count": null,
      "metadata": {
        "id": "lkglLePZDPDY",
        "outputId": "aa8e0290-9b0b-4d01-a563-d95d2dfc60cc",
        "colab": {
          "base_uri": "https://localhost:8080/",
          "height": 58
        }
      },
      "outputs": [
        {
          "output_type": "execute_result",
          "data": {
            "text/plain": [
              "Matrix([\n",
              "[5, 6],\n",
              "[7, 8]])"
            ],
            "text/latex": "$\\displaystyle \\left[\\begin{matrix}5 & 6\\\\7 & 8\\end{matrix}\\right]$"
          },
          "metadata": {},
          "execution_count": 4
        }
      ],
      "source": [
        "B # wyswietla macierz B"
      ]
    },
    {
      "cell_type": "code",
      "execution_count": null,
      "metadata": {
        "id": "ahHi_BJuDPDY",
        "outputId": "e5e5be57-00bd-41a1-b4e2-3a6916e0cf8f",
        "colab": {
          "base_uri": "https://localhost:8080/"
        }
      },
      "outputs": [
        {
          "output_type": "execute_result",
          "data": {
            "text/plain": [
              "True"
            ]
          },
          "metadata": {},
          "execution_count": 5
        }
      ],
      "source": [
        "sp.Matrix([[6,8],[10,12]])==A+B # sprawdzamy poprawnosc dodawania"
      ]
    },
    {
      "cell_type": "code",
      "execution_count": null,
      "metadata": {
        "id": "GEOlBeA-DPDY",
        "outputId": "bc7529d1-5237-4d8e-dc65-eeca663a6861",
        "colab": {
          "base_uri": "https://localhost:8080/",
          "height": 58
        }
      },
      "outputs": [
        {
          "output_type": "execute_result",
          "data": {
            "text/plain": [
              "Matrix([\n",
              "[0.25, 0.5],\n",
              "[0.75, 1.0]])"
            ],
            "text/latex": "$\\displaystyle \\left[\\begin{matrix}0.25 & 0.5\\\\0.75 & 1.0\\end{matrix}\\right]$"
          },
          "metadata": {},
          "execution_count": 22
        }
      ],
      "source": [
        "# Przykład 2: mnożenia macierzy przez skalar\n",
        "A=sp.Matrix([[1,2],[3,4]]) # definicja macierzy A\n",
        "k=1/4\n",
        "B=k*A\n",
        "B\n",
        "sp.Matrix([[2,4],[6,8]])==2*A # sprawdzamy poprawnosc mnozenia przez skalar"
      ]
    },
    {
      "cell_type": "code",
      "execution_count": null,
      "metadata": {
        "id": "V6nLkgIuDPDY",
        "outputId": "7f9a37d4-a431-4972-8d8e-6f96b9bebed9",
        "colab": {
          "base_uri": "https://localhost:8080/"
        }
      },
      "outputs": [
        {
          "output_type": "execute_result",
          "data": {
            "text/plain": [
              "True"
            ]
          },
          "metadata": {},
          "execution_count": 7
        }
      ],
      "source": [
        "# Przykład 3: mnożenia dwóch macierzy\n",
        "\n",
        "A=sp.Matrix([[1,2],[3,4]]) # definicja macierzy A\n",
        "B=sp.Matrix([[5,6],[7,8]]) # definicja macierzy B\n",
        "\n",
        "sp.Matrix([[19,22],[43,50]])==A*B # sprawdzamy poprawnosc mnozenia macierzy"
      ]
    },
    {
      "cell_type": "markdown",
      "metadata": {
        "id": "Yy8fcevNDPDZ"
      },
      "source": [
        "### Warunek konieczny do mnożenia macierzy\n",
        "\n",
        "Pamiętaj, że macierze mogą zawierać różną liczbę wierszy i kolumn.\n",
        "\n",
        "Aby móc pomnożyć dwie macierze $A_{m \\times n}$ i $B_{n \\times k}$, gdzie $A$ ma wymiary $m \\times n$ i $B$ ma wymiary $n \\times k$, liczba kolumn macierzy $A$ musi być równa liczbie wierszy macierzy $B$. W przeciwnym przypadku mnożenie macierzy nie jest możliwe.\n",
        "\n",
        "$$\n",
        "A_{m \\times n} \\cdot B_{n \\times k} = C_{m \\times k}\n",
        "$$\n",
        "\n",
        "Przykładowo, jeśli $A_{3 \\times 3}$ i $B_{3 \\times 3}$, to wynikowa macierz $C_{3 \\times 3}$.\n",
        "\n",
        "<img src=\"https://www.mscroggs.co.uk/img/full/multiply_matrices.gif\" alt=\"Matrix Multiplication GIF\" width=\"400\">"
      ]
    },
    {
      "cell_type": "markdown",
      "metadata": {
        "id": "r3RSwxYvDPDZ"
      },
      "source": [
        "### Mnożenie macierzy nie jest przemienne\n",
        "\n",
        "Mnożenie macierzy nie jest przemienne, tzn. w ogólności $A \\cdot B \\neq B \\cdot A$."
      ]
    },
    {
      "cell_type": "code",
      "execution_count": null,
      "metadata": {
        "id": "TFVfj2l_DPDZ",
        "outputId": "6c1c7466-9685-4aa5-97ef-9926015d60df"
      },
      "outputs": [
        {
          "data": {
            "text/latex": [
              "$\\displaystyle \\left[\\begin{matrix}9 & 12 & 15\\\\19 & 26 & 33\\\\29 & 40 & 51\\end{matrix}\\right]$"
            ],
            "text/plain": [
              "Matrix([\n",
              "[ 9, 12, 15],\n",
              "[19, 26, 33],\n",
              "[29, 40, 51]])"
            ]
          },
          "execution_count": 7,
          "metadata": {},
          "output_type": "execute_result"
        }
      ],
      "source": [
        "# Przykład mnożenia macierzy prostokątnych\n",
        "import sympy as sp\n",
        "A=sp.Matrix([[1,2],[3,4],[5,6]]) # definicja macierzy A_{3 x 2}\n",
        "B=sp.Matrix([[1,2,3],[4,5,6]]) # definicja macierzy B_{2 x 3}\n",
        "C=sp.Matrix([[9,12,15],[19,26,33],[29,40,51]]) # definicja macierzy C_{3 x 3}\n",
        "\n",
        "A*B # mnożymy macierze A i B otrzymując macierz 3x3"
      ]
    },
    {
      "cell_type": "code",
      "execution_count": null,
      "metadata": {
        "id": "8IjUzCctDPDZ",
        "outputId": "3a98c0bb-e89b-4549-eeb0-55ac8f8b3590"
      },
      "outputs": [
        {
          "data": {
            "text/latex": [
              "$\\displaystyle \\left[\\begin{matrix}22 & 28\\\\49 & 64\\end{matrix}\\right]$"
            ],
            "text/plain": [
              "Matrix([\n",
              "[22, 28],\n",
              "[49, 64]])"
            ]
          },
          "execution_count": 8,
          "metadata": {},
          "output_type": "execute_result"
        }
      ],
      "source": [
        "B*A # mnożymy macierze B i A otrzymując macierz 2x2"
      ]
    },
    {
      "cell_type": "code",
      "execution_count": null,
      "metadata": {
        "id": "VyLN9h7WDPDZ",
        "outputId": "c5d12a0d-bbbc-4270-a60d-7cb603ab2bb7"
      },
      "outputs": [
        {
          "data": {
            "text/latex": [
              "$\\displaystyle \\left[\\begin{matrix}134 & 184 & 234\\\\305 & 418 & 531\\end{matrix}\\right]$"
            ],
            "text/plain": [
              "Matrix([\n",
              "[134, 184, 234],\n",
              "[305, 418, 531]])"
            ]
          },
          "execution_count": 9,
          "metadata": {},
          "output_type": "execute_result"
        }
      ],
      "source": [
        "B*C # mnożymy macierze B i C otrzymując macierz 2x3"
      ]
    },
    {
      "cell_type": "markdown",
      "metadata": {
        "id": "p8_SGWX-DPDZ"
      },
      "source": [
        "---\n",
        "## Zadania dla studentów\n",
        "\n",
        "1. Oblicz sumę macierzy $A=\\begin{bmatrix} 1 & 2 \\\\ 3 & 4 \\end{bmatrix}$ i $B=\\begin{bmatrix} 5 & 6 \\\\ 7 & 8 \\end{bmatrix}$.\n",
        "\n",
        "2. Oblicz iloczyn macierzy $A=\\begin{bmatrix} 4 & 2 \\\\ 12 & 4 \\end{bmatrix}$ i skalaru $k=\\frac{1}{4}$.\n",
        "\n",
        "3. Oblicz iloczyn $A\\cdot B$ oraz $B \\cdot A$ dla macierzy $A=\\begin{bmatrix} 3 & 2 \\\\ 2 & 4 \\end{bmatrix}$ i $B=\\begin{bmatrix} 4 & 1 \\\\ 6 & 4 \\end{bmatrix}$."
      ]
    },
    {
      "cell_type": "code",
      "source": [
        "#1\n",
        "import sympy as sp\n",
        "A=sp.Matrix([[1,2],[3,4]])\n",
        "B=sp.Matrix([[5,6],[7,8]])\n",
        "C=A+B\n",
        "C==sp.Matrix([[6,8],[10,12]])"
      ],
      "metadata": {
        "id": "b8h3DNxJDmM-",
        "outputId": "0f921e01-b833-4a87-b6a4-ee295dcd52c7",
        "colab": {
          "base_uri": "https://localhost:8080/"
        }
      },
      "execution_count": 6,
      "outputs": [
        {
          "output_type": "execute_result",
          "data": {
            "text/plain": [
              "True"
            ]
          },
          "metadata": {},
          "execution_count": 6
        }
      ]
    },
    {
      "cell_type": "code",
      "source": [
        "#2\n",
        "import sympy as sp\n",
        "from sympy import Rational\n",
        "A=sp.Matrix([[4,2],[12,4]])\n",
        "k=Rational(1,4)\n",
        "B=k*A\n",
        "B==sp.Matrix([[1,Rational(1,2)],[3,1]])\n"
      ],
      "metadata": {
        "id": "6ciRlSPXMoBt",
        "outputId": "66a4012e-f3d4-4286-8110-4ac25e9a6f93",
        "colab": {
          "base_uri": "https://localhost:8080/"
        }
      },
      "execution_count": 11,
      "outputs": [
        {
          "output_type": "execute_result",
          "data": {
            "text/plain": [
              "True"
            ]
          },
          "metadata": {},
          "execution_count": 11
        }
      ]
    },
    {
      "cell_type": "code",
      "source": [
        "Rational(1/3)"
      ],
      "metadata": {
        "id": "o7mubaO4YPH7",
        "outputId": "37dcc12c-7780-4f6f-de5d-ae6219facab3",
        "colab": {
          "base_uri": "https://localhost:8080/",
          "height": 51
        }
      },
      "execution_count": 13,
      "outputs": [
        {
          "output_type": "execute_result",
          "data": {
            "text/plain": [
              "6004799503160661/18014398509481984"
            ],
            "text/latex": "$\\displaystyle \\frac{6004799503160661}{18014398509481984}$"
          },
          "metadata": {},
          "execution_count": 13
        }
      ]
    },
    {
      "cell_type": "code",
      "source": [
        "#3\n",
        "import sympy as sp\n",
        "A=sp.Matrix([[3,2],\n",
        "            [2,4]]) # definicja macierzy A\n",
        "B=sp.Matrix([[4,1],\n",
        "            [6,4]]) # definicja macierzy B\n",
        "C=A*B\n",
        "D=B*A\n",
        "print(C,D)"
      ],
      "metadata": {
        "id": "j6BzhO8zMsb-",
        "outputId": "113560a8-55b8-4cb5-b3d6-6ec1ea8a92a1",
        "colab": {
          "base_uri": "https://localhost:8080/"
        }
      },
      "execution_count": 5,
      "outputs": [
        {
          "output_type": "stream",
          "name": "stdout",
          "text": [
            "Matrix([[24, 11], [32, 18]]) Matrix([[14, 12], [26, 28]])\n"
          ]
        }
      ]
    }
  ],
  "metadata": {
    "kernelspec": {
      "display_name": "Python 3",
      "language": "python",
      "name": "python3"
    },
    "language_info": {
      "codemirror_mode": {
        "name": "ipython",
        "version": 3
      },
      "file_extension": ".py",
      "mimetype": "text/x-python",
      "name": "python",
      "nbconvert_exporter": "python",
      "pygments_lexer": "ipython3",
      "version": "3.11.9"
    },
    "colab": {
      "provenance": []
    }
  },
  "nbformat": 4,
  "nbformat_minor": 0
}