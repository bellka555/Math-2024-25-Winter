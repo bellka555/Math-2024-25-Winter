{
  "cells": [
    {
      "cell_type": "markdown",
      "metadata": {
        "id": "3MLWfIiaR_zl"
      },
      "source": [
        "\n",
        "\n",
        "## Wyznacznik macierzy 3x3 metodą Laplace'a\n",
        "\n",
        "Ogólny wzór dla wyznacznika macierzy 3x3 wygląda następująco:\n",
        "\n",
        "$$\n",
        "\\mathbf{A} =\n",
        "\\begin{pmatrix}\n",
        "a_{11} & a_{12} & a_{13} \\\\\n",
        "a_{21} & a_{22} & a_{23} \\\\\n",
        "a_{31} & a_{32} & a_{33}\n",
        "\\end{pmatrix}\n",
        "$$\n",
        "\n",
        "Wyznacznik macierzy 3x3 obliczamy, rozwijając po pierwszym wierszu. Stosujemy rozwinięcie Laplace’a, które polega na wybraniu elementów pierwszego wiersza oraz obliczeniu wyznaczników macierzy 2x2, które powstają po usunięciu odpowiednich wierszy i kolumn.\n",
        "\n",
        "Rozwinięcie po pierwszym wierszu macierzy 3x3:\n",
        "\n",
        "$$\n",
        "\\text{det}(A) =\n",
        "(-1)^{1+1}a_{11} \\cdot\n",
        "\\text{det}\n",
        "\\begin{pmatrix}\n",
        "a_{22} & a_{23} \\\\\n",
        "a_{32} & a_{33}\n",
        "\\end{pmatrix}\n",
        "+(-1)^{1+2} a_{12} \\cdot \\text{det}\n",
        "\\begin{pmatrix}\n",
        "a_{21} & a_{23} \\\\\n",
        "a_{31} & a_{33}\n",
        "\\end{pmatrix}\n",
        "+(-1)^{1+3}a_{13} \\cdot \\text{det}\n",
        "\\begin{pmatrix}\n",
        "a_{21} & a_{22} \\\\\n",
        "a_{31} & a_{32}\n",
        "\\end{pmatrix}\n",
        "$$\n",
        "\n"
      ]
    },
    {
      "cell_type": "markdown",
      "metadata": {
        "id": "YuXcbh8GR_zm"
      },
      "source": [
        "### Przykład macierzy 3x3\n",
        "\n",
        "Dla macierzy:\n",
        "\n",
        "$$\n",
        "\\mathbf{A} =\n",
        "\\begin{pmatrix}\n",
        "2 & 3 & 1 \\\\\n",
        "1 & 4 & 5 \\\\\n",
        "3 & 2 & 1\n",
        "\\end{pmatrix}\n",
        "$$\n",
        "\n",
        "Rozwinięcie Laplace'a:\n",
        "\n",
        "$$\n",
        "\\text{det}(A) = 2 \\cdot\n",
        "\\text{det}\n",
        "\\begin{pmatrix}\n",
        "4 & 5 \\\\\n",
        "2 & 1\n",
        "\\end{pmatrix}\n",
        "- 3 \\cdot\n",
        "\\text{det}\n",
        "\\begin{pmatrix}\n",
        "1 & 5 \\\\\n",
        "3 & 1\n",
        "\\end{pmatrix}\n",
        "+ 1 \\cdot\n",
        "\\text{det}\n",
        "\\begin{pmatrix}\n",
        "1 & 4 \\\\\n",
        "3 & 2\n",
        "\\end{pmatrix}\n",
        "$$\n",
        "\n",
        "## Wyznacznik macierzy 4x4 metodą Laplace'a\n",
        "\n",
        "Ogólny wzór dla wyznacznika macierzy 4x4, gdzie macierz wygląda następująco:\n",
        "\n",
        "$$\n",
        "\\mathbf{B} =\n",
        "\\begin{pmatrix}\n",
        "a_{11} & a_{12} & a_{13} & a_{14} \\\\\n",
        "a_{21} & a_{22} & a_{23} & a_{24} \\\\\n",
        "a_{31} & a_{32} & a_{33} & a_{34} \\\\\n",
        "a_{41} & a_{42} & a_{43} & a_{44}\n",
        "\\end{pmatrix}\n",
        "$$\n",
        "\n",
        "Wyznacznik macierzy 4x4 obliczamy, rozwijając po pierwszym wierszu. Podobnie jak w przypadku macierzy 3x3, elementy pierwszego wiersza są mnożone przez wyznaczniki macierzy 3x3, które powstają po usunięciu odpowiednich wierszy i kolumn.\n",
        "\n",
        "Rozwinięcie po pierwszym wierszu macierzy 4x4:\n",
        "\n",
        "$$\n",
        "\\text{det}(B) =\n",
        "(-1)^{1+1} \\cdot\n",
        "a_{11} \\cdot \\text{det}\n",
        "\\begin{pmatrix}\n",
        "a_{22} & a_{23} & a_{24} \\\\\n",
        "a_{32} & a_{33} & a_{34} \\\\\n",
        "a_{42} & a_{43} & a_{44}\n",
        "\\end{pmatrix}\n",
        "+ (-1)^{1+2} \\cdot\n",
        "a_{12} \\cdot \\text{det}\n",
        "\\begin{pmatrix}\n",
        "a_{21} & a_{23} & a_{24} \\\\\n",
        "a_{31} & a_{33} & a_{34} \\\\\n",
        "a_{41} & a_{43} & a_{44}\n",
        "\\end{pmatrix}\n",
        "+ (-1)^{1+3} \\cdot\n",
        "a_{13} \\cdot \\text{det}\n",
        "\\begin{pmatrix}\n",
        "a_{21} & a_{22} & a_{24} \\\\\n",
        "a_{31} & a_{32} & a_{34} \\\\\n",
        "a_{41} & a_{42} & a_{44}\n",
        "\\end{pmatrix}\n",
        "+ (-1)^{1+4} \\cdot\n",
        "a_{14} \\cdot \\text{det}\n",
        "\\begin{pmatrix}\n",
        "a_{21} & a_{22} & a_{23} \\\\\n",
        "a_{31} & a_{32} & a_{33} \\\\\n",
        "a_{41} & a_{42} & a_{43}\n",
        "\\end{pmatrix}\n",
        "$$\n",
        "\n",
        "### Przykład macierzy 4x4\n",
        "\n",
        "Dla macierzy:\n",
        "\n",
        "$$\n",
        "\\mathbf{B} =\n",
        "\\begin{pmatrix}\n",
        "2 & 3 & 1 & 4 \\\\\n",
        "1 & 4 & 5 & 6 \\\\\n",
        "3 & 2 & 1 & 5 \\\\\n",
        "2 & 1 & 4 & 3\n",
        "\\end{pmatrix}\n",
        "$$\n",
        "\n",
        "Rozwinięcie Laplace'a:\n",
        "\n",
        "$$\n",
        "\\text{det}(B) = 2 \\cdot \\text{det}\n",
        "\\begin{pmatrix}\n",
        "4 & 5 & 6 \\\\\n",
        "2 & 1 & 5 \\\\\n",
        "1 & 4 & 3\n",
        "\\end{pmatrix}\n",
        "- 3 \\cdot \\text{det}\n",
        "\\begin{pmatrix}\n",
        "1 & 5 & 6 \\\\\n",
        "3 & 1 & 5 \\\\\n",
        "2 & 4 & 3\n",
        "\\end{pmatrix}\n",
        "+ 1 \\cdot \\text{det}\n",
        "\\begin{pmatrix}\n",
        "1 & 4 & 6 \\\\\n",
        "3 & 2 & 5 \\\\\n",
        "2 & 1 & 3\n",
        "\\end{pmatrix}\n",
        "- 4 \\cdot \\text{det}\n",
        "\\begin{pmatrix}\n",
        "1 & 4 & 5 \\\\\n",
        "3 & 2 & 1 \\\\\n",
        "2 & 1 & 4\n",
        "\\end{pmatrix}\n",
        "$$"
      ]
    },
    {
      "cell_type": "markdown",
      "metadata": {
        "id": "B6bB23lqR_zn"
      },
      "source": [
        "*Курсив*\n",
        "### Obliczanie wyznaczników w Pythonie przy użyciu SymPy\n",
        "\n",
        "Poniżej obliczymy wyznaczniki macierzy 3x3 i 4x4, wykorzystując metodę Laplace'a w Pythonie, korzystając z biblioteki **SymPy**."
      ]
    },
    {
      "cell_type": "code",
      "execution_count": 1,
      "metadata": {
        "colab": {
          "base_uri": "https://localhost:8080/",
          "height": 78
        },
        "id": "7VX_9ypMR_zn",
        "outputId": "5c87682a-f979-4aac-b1d8-7b07b8b87839"
      },
      "outputs": [
        {
          "output_type": "execute_result",
          "data": {
            "text/plain": [
              "Matrix([\n",
              "[2, 3, 1],\n",
              "[1, 4, 5],\n",
              "[3, 2, 1]])"
            ],
            "text/latex": "$\\displaystyle \\left[\\begin{matrix}2 & 3 & 1\\\\1 & 4 & 5\\\\3 & 2 & 1\\end{matrix}\\right]$"
          },
          "metadata": {},
          "execution_count": 1
        }
      ],
      "source": [
        "import sympy as sp\n",
        "\n",
        "# Macierz 3x3\n",
        "A = sp.Matrix([[2, 3, 1], [1, 4, 5], [3, 2, 1]])\n",
        "A"
      ]
    },
    {
      "cell_type": "code",
      "execution_count": 5,
      "metadata": {
        "colab": {
          "base_uri": "https://localhost:8080/",
          "height": 38
        },
        "id": "qtrNyUk9R_zo",
        "outputId": "d934d4d8-e545-4516-ce94-2e6f674e6f00"
      },
      "outputs": [
        {
          "output_type": "execute_result",
          "data": {
            "text/plain": [
              "20"
            ],
            "text/latex": "$\\displaystyle 20$"
          },
          "metadata": {},
          "execution_count": 5
        }
      ],
      "source": [
        "# Wybieramy pierwszy wiersz [2,3,1]\n",
        "# Definiujemy odpowiednie minory\n",
        "M11 = sp.Matrix([[4, 5], [2, 1]])\n",
        "M12 = sp.Matrix([[1, 5], [3, 1]])\n",
        "M13 = sp.Matrix([[1, 4], [3, 2]])\n",
        "\n",
        "# Obliczamy wyznacznik\n",
        "d=2*M11.det()-3*M12.det()+1*M13.det()\n",
        "\n",
        "d==A.det()"
      ]
    },
    {
      "cell_type": "code",
      "execution_count": 10,
      "metadata": {
        "colab": {
          "base_uri": "https://localhost:8080/",
          "height": 98
        },
        "id": "_LGoapqmR_zp",
        "outputId": "0dc82c30-7a32-4f95-ab7b-ae6b73edcaed"
      },
      "outputs": [
        {
          "output_type": "execute_result",
          "data": {
            "text/plain": [
              "Matrix([\n",
              "[2, 0, 1, 0],\n",
              "[1, 4, 5, 6],\n",
              "[3, 2, 1, 5],\n",
              "[2, 1, 4, 3]])"
            ],
            "text/latex": "$\\displaystyle \\left[\\begin{matrix}2 & 0 & 1 & 0\\\\1 & 4 & 5 & 6\\\\3 & 2 & 1 & 5\\\\2 & 1 & 4 & 3\\end{matrix}\\right]$"
          },
          "metadata": {},
          "execution_count": 10
        }
      ],
      "source": [
        "# Macierz 4x4\n",
        "B = sp.Matrix([[2, 0, 1, 0], [1, 4, 5, 6], [3, 2, 1, 5], [2, 1, 4, 3]])\n",
        "B"
      ]
    },
    {
      "cell_type": "code",
      "execution_count": 13,
      "metadata": {
        "colab": {
          "base_uri": "https://localhost:8080/"
        },
        "id": "Gb4cYvIaR_zp",
        "outputId": "fae71688-d949-4fd2-9666-66f58561cdd5"
      },
      "outputs": [
        {
          "output_type": "execute_result",
          "data": {
            "text/plain": [
              "True"
            ]
          },
          "metadata": {},
          "execution_count": 13
        }
      ],
      "source": [
        "# Sprawdzenie poprawności obliczeń\n",
        "B = sp.Matrix([[2, 0, 1, 0], [1, 4, 5, 6], [3, 2, 1, 5], [2, 1, 4, 3]])\n",
        "M11 = sp.Matrix([[4, 5, 6], [2, 1, 5], [1, 4, 3]])\n",
        "M12 = sp.Matrix([[1, 5, 6], [3, 1, 5], [2, 4, 3]])\n",
        "M13 = sp.Matrix([[1, 4, 6], [3, 2, 5], [2, 1, 3]])\n",
        "M14 = sp.Matrix([[1, 4, 5], [3, 2, 1], [2, 1, 4]])\n",
        "\n",
        "(2*M11.det() - 0*M12.det() + 1*M13.det() - 0*M14.det()) == B.det()\n",
        "\n",
        "d = 2*M11.det() - 0*M12.det() + 1*M13.det() - 0*M14.det()\n",
        "d == B.det()"
      ]
    },
    {
      "cell_type": "markdown",
      "metadata": {
        "id": "eBSjUXmNR_zp"
      },
      "source": [
        "Zauważ, że tylko pierwszy i trzeci składnik mają niezerowe współczynniki, więc wyznaczników wszystkich miniorów nie trzeba obliczać!"
      ]
    },
    {
      "cell_type": "markdown",
      "metadata": {
        "id": "Z6NAX91sR_zp"
      },
      "source": [
        "---\n",
        "\n",
        "## Zadania dla studentów\n",
        "\n",
        "Oblicz wyznaczniki następujących macierzy:\n",
        "\n",
        "\n",
        "$$\n",
        "\\mathbf{A} =\n",
        "\\begin{pmatrix}\n",
        "2 & 3 & 1 \\\\\n",
        "1 & 4 & 0 \\\\\n",
        "3 & 2 & 1\n",
        "\\end{pmatrix}\n",
        ",\\qquad\n",
        "\\mathbf{B} =\n",
        "\\begin{pmatrix}\n",
        "2 & 3 & 1 \\\\\n",
        "1 & 4 & 0 \\\\\n",
        "3 & 2 & 0  \\\\\n",
        "\\end{pmatrix}\n",
        ",\\qquad\n",
        "\\mathbf{C} =\n",
        "\\begin{pmatrix}\n",
        "2 & 3 & 1 & 4 \\\\\n",
        "1 & 0 & 0 & 6 \\\\\n",
        "3 & 2 & 1 & 5 \\\\\n",
        "2 & 1 & 4 & 0\n",
        "\\end{pmatrix}\n",
        ",\\qquad\n",
        "\\mathbf{D} =\n",
        "\\begin{pmatrix}\n",
        "2 & 3 & 1 & 4 & 5 \\\\\n",
        "1 & 4 & 0 & 0 & 7 \\\\\n",
        "3 & 0 & 0 & 0 & 0 \\\\\n",
        "2 & 1 & 4 & 3 & 2 \\\\\n",
        "1 & 2 & 3 & 4 & 5\n",
        "\\end{pmatrix}\n",
        "$$\n",
        "\n",
        "\n",
        "\n",
        "\n",
        "\n",
        "\n",
        "\n"
      ]
    },
    {
      "cell_type": "code",
      "source": [
        "#1\n",
        "#import sympy as sp\n",
        "#A = sp.Matrix([[2, 3, 1], [1, 4, 0], [3, 2, 1]])\n",
        "#M11 = sp.Matrix([[4, 0], [2, 1]])\n",
        "#M12 = sp.Matrix([[1, 0], [3, 1]])\n",
        "#M13 = sp.Matrix([[1, 4], [3, 2]])\n",
        "\n",
        "#d=2*M11.det()-3*M12.det()+1*M13.det()\n",
        "\n",
        "#d==A.det()\n",
        "#d\n",
        "\n",
        "#2\n",
        "#A = sp.Matrix([[2, 3, 1], [1, 4, 0], [3, 2, 0]])\n",
        "#M11 = sp.Matrix([[4, 0], [2, 0]])\n",
        "#M12 = sp.Matrix([[1, 0], [3, 0]])\n",
        "#M13 = sp.Matrix([[1, 4], [3, 2]])\n",
        "\n",
        "#d=2*M11.det()-3*M12.det()+1*M13.det()\n",
        "#d==A.det()\n",
        "#d\n",
        "\n",
        "#3\n",
        "\n",
        "#B = sp.Matrix([[2, 3, 1, 4], [1, 0, 0, 6], [3, 2, 1, 5], [2, 1, 4, 0]])\n",
        "#M11 = sp.Matrix([[0, 0, 6], [2, 1, 5], [1, 4, 0]])\n",
        "#M12 = sp.Matrix([[1, 0, 6], [3, 1, 5], [2, 4, 0]])\n",
        "#M13 = sp.Matrix([[1, 0, 6], [3, 2, 5], [2, 1, 0]])\n",
        "#M14 = sp.Matrix([[1, 0, 0], [3, 2, 1], [2, 1, 4]])\n",
        "\n",
        "#d = 2*M11.det() - 3*M12.det() + 1*M13.det() - 4*M14.det()\n",
        "#d == B.det()\n",
        "#d\n",
        "\n",
        "C= sp.Matrix([[2, 3, 1, 4, 5], [1, 4, 0, 0, 7], [3, 0, 0, 0, 0], [2, 1, 4, 3, 2], [1, 2, 4, 3, 4, 5]])\n",
        "M11 = sp.Matrix([[2, 1, 4, 3, 2], [2, 1, 4, 3, 2], [2, 1, 4, 3, 2]])\n",
        "M12 = sp.Matrix([[1, 5, 6], [3, 1, 5], [2, 4, 3]])\n",
        "M13 = sp.Matrix([[1, 4, 6], [3, 2, 5], [2, 1, 3]])\n",
        "M14 = sp.Matrix([[1, 4, 5], [3, 2, 1], [2, 1, 4]])"
      ],
      "metadata": {
        "colab": {
          "base_uri": "https://localhost:8080/"
        },
        "id": "x0mCjTr-SWC4",
        "outputId": "c49c7b4a-be79-4155-d6cf-c5e5c467864a"
      },
      "execution_count": 15,
      "outputs": [
        {
          "output_type": "execute_result",
          "data": {
            "text/plain": [
              "True"
            ]
          },
          "metadata": {},
          "execution_count": 15
        }
      ]
    }
  ],
  "metadata": {
    "kernelspec": {
      "display_name": "Python 3 (ipykernel)",
      "language": "python",
      "name": "python3",
      "path": "/home/dch/repos/Math-2024-25-Winter/.venv/share/jupyter/kernels/python3"
    },
    "language_info": {
      "codemirror_mode": {
        "name": "ipython",
        "version": 3
      },
      "file_extension": ".py",
      "mimetype": "text/x-python",
      "name": "python",
      "nbconvert_exporter": "python",
      "pygments_lexer": "ipython3",
      "version": "3.11.9"
    },
    "colab": {
      "provenance": []
    }
  },
  "nbformat": 4,
  "nbformat_minor": 0
}