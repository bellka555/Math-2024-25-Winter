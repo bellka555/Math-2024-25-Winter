{
  "cells": [
    {
      "cell_type": "markdown",
      "metadata": {
        "id": "view-in-github",
        "colab_type": "text"
      },
      "source": [
        "<a href=\"https://colab.research.google.com/github/bellka555/Math-2024-25-Winter/blob/main/la_sole__old_school.ipynb\" target=\"_parent\"><img src=\"https://colab.research.google.com/assets/colab-badge.svg\" alt=\"Open In Colab\"/></a>"
      ]
    },
    {
      "cell_type": "markdown",
      "metadata": {
        "id": "mRBuEcnF4vBe"
      },
      "source": [
        "## Metoda szkolna rozwiązania układu równań liniowych"
      ]
    },
    {
      "cell_type": "code",
      "execution_count": null,
      "metadata": {
        "id": "YhKoNrPe4vBg"
      },
      "outputs": [],
      "source": [
        "import sympy as sp\n",
        "from sympy import symbols, Eq, expand, solve\n",
        "\n",
        "class EnhancedEq(Eq):\n",
        "    def __add__(self, other):\n",
        "        return EnhancedEq(self.lhs + other.lhs, self.rhs + other.rhs)\n",
        "\n",
        "    def __sub__(self, other):\n",
        "        return EnhancedEq(self.lhs - other.lhs, self.rhs - other.rhs)\n",
        "\n",
        "    def __mul__(self, scalar):\n",
        "        return EnhancedEq(scalar * self.lhs, scalar * self.rhs)\n",
        "\n",
        "    def __rmul__(self, scalar):\n",
        "        return self.__mul__(scalar)\n",
        "\n",
        "    def simplify(self):\n",
        "        return EnhancedEq(expand(self.lhs), expand(self.rhs))\n",
        "\n",
        "    def substitute(self, *args, **kwargs):\n",
        "        return EnhancedEq(self.lhs.subs(*args, **kwargs), self.rhs.subs(*args, **kwargs))\n",
        "\n",
        "    def solve_for(self, symbol):\n",
        "        return solve(self, symbol)\n",
        "\n",
        "# Przykład użycia:\n",
        "x, y = symbols('x y')\n",
        "\n",
        "# Definicja równań\n",
        "eq1 = EnhancedEq(2*x + y, 5)\n",
        "eq2 = EnhancedEq(x - y, 1)"
      ]
    },
    {
      "cell_type": "code",
      "execution_count": null,
      "metadata": {
        "id": "zZDWhZnB4vBh",
        "outputId": "5d2fe7be-745c-40c3-8993-3c72e4f2a2bb"
      },
      "outputs": [
        {
          "name": "stdout",
          "output_type": "stream",
          "text": [
            "Piersze równanie:\n"
          ]
        },
        {
          "data": {
            "text/latex": [
              "$\\displaystyle 2 x + y = 5$"
            ],
            "text/plain": [
              "Eq(2*x + y, 5)"
            ]
          },
          "execution_count": 10,
          "metadata": {},
          "output_type": "execute_result"
        }
      ],
      "source": [
        "print(\"Piersze równanie:\")\n",
        "eq1"
      ]
    },
    {
      "cell_type": "code",
      "execution_count": null,
      "metadata": {
        "id": "0k-KWNeK4vBi",
        "outputId": "d2ea3a79-d371-40a2-eef0-8a78371d2d7b"
      },
      "outputs": [
        {
          "name": "stdout",
          "output_type": "stream",
          "text": [
            "Drugie równanie:\n"
          ]
        },
        {
          "data": {
            "text/latex": [
              "$\\displaystyle x - y = 1$"
            ],
            "text/plain": [
              "Eq(x - y, 1)"
            ]
          },
          "execution_count": 11,
          "metadata": {},
          "output_type": "execute_result"
        }
      ],
      "source": [
        "print(\"Drugie równanie:\")\n",
        "eq2"
      ]
    },
    {
      "cell_type": "code",
      "execution_count": null,
      "metadata": {
        "id": "slrMAfCv4vBj",
        "outputId": "3b440d21-43b3-4b28-abd8-e9364ad72880"
      },
      "outputs": [
        {
          "data": {
            "text/latex": [
              "$\\displaystyle 3 x = 6$"
            ],
            "text/plain": [
              "Eq(3*x, 6)"
            ]
          },
          "execution_count": 12,
          "metadata": {},
          "output_type": "execute_result"
        }
      ],
      "source": [
        "# Dodajemy do siebie równania\n",
        "eq3 = eq1 + eq2\n",
        "eq3"
      ]
    },
    {
      "cell_type": "code",
      "execution_count": null,
      "metadata": {
        "id": "IO48nvBR4vBj",
        "outputId": "e31d2a3d-ff0f-4a28-d4db-db0c4a09cb85"
      },
      "outputs": [
        {
          "data": {
            "text/latex": [
              "$\\displaystyle 2$"
            ],
            "text/plain": [
              "2"
            ]
          },
          "execution_count": 13,
          "metadata": {},
          "output_type": "execute_result"
        }
      ],
      "source": [
        "# Mamy równanie z jedną niewiadomą więc możemy je rozwiązać\n",
        "sol_x = eq3.solve_for(x)[0]\n",
        "sol_x"
      ]
    },
    {
      "cell_type": "code",
      "execution_count": null,
      "metadata": {
        "id": "QnPGRDFq4vBj",
        "outputId": "8a225fd9-54be-411c-9404-3056366d5669"
      },
      "outputs": [
        {
          "data": {
            "text/latex": [
              "$\\displaystyle 2 - y = 1$"
            ],
            "text/plain": [
              "Eq(2 - y, 1)"
            ]
          },
          "execution_count": 14,
          "metadata": {},
          "output_type": "execute_result"
        }
      ],
      "source": [
        "# Podstawiamy rozwiązanie do równania 2\n",
        "eq2=eq2.substitute(x,sol_x)\n",
        "eq2"
      ]
    },
    {
      "cell_type": "code",
      "execution_count": null,
      "metadata": {
        "id": "zSCBx0Z94vBj",
        "outputId": "6b61c388-2c7e-4b8d-8dc7-b2f29df180af"
      },
      "outputs": [
        {
          "data": {
            "text/latex": [
              "$\\displaystyle 1$"
            ],
            "text/plain": [
              "1"
            ]
          },
          "execution_count": 15,
          "metadata": {},
          "output_type": "execute_result"
        }
      ],
      "source": [
        "# Dostajemy równanie z jedną niewiadomą więc możemy je rozwiązać\n",
        "eq2.solve_for(y)[0]"
      ]
    },
    {
      "cell_type": "code",
      "execution_count": null,
      "metadata": {
        "id": "cMgzpxmC4vBk",
        "outputId": "b3ee86f4-aac7-4f23-8d11-008233108e64"
      },
      "outputs": [
        {
          "data": {
            "text/plain": [
              "{x: 2, y: 1}"
            ]
          },
          "execution_count": 16,
          "metadata": {},
          "output_type": "execute_result"
        }
      ],
      "source": [
        "# czyli x=2, y=1\n",
        "# Sprawdzamy w sympy\n",
        "sp.solve([eq1,eq2])"
      ]
    },
    {
      "cell_type": "markdown",
      "metadata": {
        "id": "20ZvVGY84vBk"
      },
      "source": [
        "---\n",
        "\n",
        "### Zadania dla studentów\n",
        "\n",
        "Analogicznie jak wyżej rozwiąż następujące układy równań:\n",
        "\n",
        "* $3x-2y=5, \\quad 2x+3y=7$,\n",
        "* $2x-3y=10, \\quad 4x+5y=20$,\n",
        "* $2x - y + z = 3, \\quad x + 2y - z = 1, \\quad 3x - y + 2z = 11$.\n",
        "* $2x-3y+4z+2t=2, \\quad 3x+2y-5z+3t=3, \\quad 4x-3y+2z-5t=4, \\quad 5x+4y-3z+2t=5$.\n"
      ]
    },
    {
      "cell_type": "code",
      "source": [
        "from sympy import symbols, Eq, solve\n",
        "\n",
        "# Визначаємо змінні\n",
        "x, y, z, t = symbols('x y z t')\n",
        "\n",
        "# Перша система рівнянь\n",
        "eq1_1 = Eq(3*x - 2*y, 5)\n",
        "eq1_2 = Eq(2*x + 3*y, 7)\n",
        "\n",
        "solution1 = solve((eq1_1, eq1_2), (x, y))\n",
        "\n",
        "# Друга система рівнянь\n",
        "eq2_1 = Eq(2*x - 3*y, 10)\n",
        "eq2_2 = Eq(4*x + 5*y, 20)\n",
        "\n",
        "solution2 = solve((eq2_1, eq2_2), (x, y))\n",
        "\n",
        "# Третя система рівнянь\n",
        "eq3_1 = Eq(2*x - y + z, 3)\n",
        "eq3_2 = Eq(x + 2*y - z, 1)\n",
        "eq3_3 = Eq(3*x - y + 2*z, 11)\n",
        "\n",
        "solution3 = solve((eq3_1, eq3_2, eq3_3), (x, y, z))\n",
        "\n",
        "# Четверта система рівнянь\n",
        "eq4_1 = Eq(2*x - 3*y + 4*z + 2*t, 2)\n",
        "eq4_2 = Eq(3*x + 2*y - 5*z + 3*t, 3)\n",
        "eq4_3 = Eq(4*x - 3*y + 2*z - 5*t, 4)\n",
        "eq4_4 = Eq(5*x + 4*y - 3*z + 2*t, 5)\n",
        "\n",
        "solution4 = solve((eq4_1, eq4_2, eq4_3, eq4_4), (x, y, z, t))\n",
        "\n",
        "# Виводимо рішення для кожної системи\n",
        "solution1, solution2, solution3, solution4"
      ],
      "metadata": {
        "id": "tCmnc7uj5Gby"
      },
      "execution_count": null,
      "outputs": []
    }
  ],
  "metadata": {
    "kernelspec": {
      "display_name": ".venv",
      "language": "python",
      "name": "python3"
    },
    "language_info": {
      "codemirror_mode": {
        "name": "ipython",
        "version": 3
      },
      "file_extension": ".py",
      "mimetype": "text/x-python",
      "name": "python",
      "nbconvert_exporter": "python",
      "pygments_lexer": "ipython3",
      "version": "3.11.9"
    },
    "colab": {
      "provenance": [],
      "include_colab_link": true
    }
  },
  "nbformat": 4,
  "nbformat_minor": 0
}